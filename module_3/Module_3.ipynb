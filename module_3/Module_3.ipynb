{
 "cells": [
  {
   "cell_type": "markdown",
   "metadata": {
    "id": "dK_EepK8lxT3"
   },
   "source": [
    " \n",
    "# Predict TripAdvisor Rating\n",
    "### Goal: \n",
    " \n",
    "Predict a restaurant's TripAdvisor rating and get a Mean Absolute Error (MAE) < 0.22 \n",
    " \n",
    "### Tasks:\n",
    " \n",
    "- Make preprocessing of various data\n",
    "- Handle missing data (NaN)\n",
    "- Encode and get new signs\n",
    "(Feature Engineering)"
   ]
  },
  {
   "cell_type": "markdown",
   "metadata": {
    "id": "JutbnD_O0BiS"
   },
   "source": [
    "# Import"
   ]
  },
  {
   "cell_type": "code",
   "execution_count": 1,
   "metadata": {
    "executionInfo": {
     "elapsed": 4767,
     "status": "ok",
     "timestamp": 1608200009583,
     "user": {
      "displayName": "Kost Bezon",
      "photoUrl": "",
      "userId": "03646334733882107726"
     },
     "user_tz": -180
    },
    "id": "7X0PwAKoqwfD"
   },
   "outputs": [],
   "source": [
    "import numpy as np # linear algebra\n",
    "import pandas as pd # data processing, CSV file I/O (e.g. pd.read_csv)\n",
    "import matplotlib.pyplot as plt\n",
    "import seaborn as sns\n",
    "import re\n",
    "import warnings; warnings.simplefilter('ignore') #ignore warnings\n",
    " \n",
    "# We load a special convenient tool for splitting a dataset:\n",
    "from sklearn.model_selection import train_test_split\n",
    " \n",
    "# fix the version of packages and seed so that experiments are reproducible: \n",
    "RANDOM_SEED = 42\n",
    "!pip freeze > requirements.txt\n",
    " \n",
    "# function for finding the city average\n",
    "def fill_na(column): # get column\n",
    "  city_list = data.City.unique() # finding unique values in cities\n",
    "  for city in city_list:\n",
    "    mean_price = data[column][data['City']==city].mean() # find mean for column\n",
    "    data[column][data['City']==city] = data[column][data['City']==city].fillna(mean_price) # filling NaN values\n",
    "  return data\n",
    " \n",
    "# function for create conbine feature from dummy values\n",
    "def dummy(column):\n",
    "  column = column.apply(lambda x: x-x.mean()) # subtract mean\n",
    "  column = column.apply(lambda x: x/np.linalg.norm(x)) # normalization\n",
    "  column = [column.iloc[x].sum() for x in range(len(column))] # summing values in row\n",
    "  column = column / np.linalg.norm(column) # normalization\n",
    "  return column\n",
    "\n",
    "# function for leaving top values\n",
    "def other(column):\n",
    "  values_count = data[column].value_counts() # unique values and count\n",
    "  top = np.percentile(values_count, 90) # top 10\n",
    "  values_df = pd.DataFrame(values_count).reset_index() # create dataframe and reset index\n",
    "  index_top=values_df[column][values_df[column] == top].index[0] # find index of top values\n",
    "  return list(values_df[index_top:]['index']) # return list of non top values"
   ]
  },
  {
   "cell_type": "markdown",
   "metadata": {
    "id": "gOSHPuipxpNv"
   },
   "source": [
    "## DATA"
   ]
  },
  {
   "cell_type": "code",
   "execution_count": 2,
   "metadata": {
    "colab": {
     "base_uri": "https://localhost:8080/",
     "height": 819
    },
    "executionInfo": {
     "elapsed": 3374,
     "status": "ok",
     "timestamp": 1608200046920,
     "user": {
      "displayName": "Kost Bezon",
      "photoUrl": "",
      "userId": "03646334733882107726"
     },
     "user_tz": -180
    },
    "id": "zCuRfysxxpNx",
    "outputId": "c4cdbd10-395b-4e9e-d4bf-01325f6d8e5a"
   },
   "outputs": [
    {
     "name": "stdout",
     "output_type": "stream",
     "text": [
      "<class 'pandas.core.frame.DataFrame'>\n",
      "RangeIndex: 40000 entries, 0 to 39999\n",
      "Data columns (total 10 columns):\n",
      " #   Column             Non-Null Count  Dtype  \n",
      "---  ------             --------------  -----  \n",
      " 0   Restaurant_id      40000 non-null  object \n",
      " 1   City               40000 non-null  object \n",
      " 2   Cuisine Style      30717 non-null  object \n",
      " 3   Ranking            40000 non-null  float64\n",
      " 4   Rating             40000 non-null  float64\n",
      " 5   Price Range        26114 non-null  object \n",
      " 6   Number of Reviews  37457 non-null  float64\n",
      " 7   Reviews            40000 non-null  object \n",
      " 8   URL_TA             40000 non-null  object \n",
      " 9   ID_TA              40000 non-null  object \n",
      "dtypes: float64(3), object(7)\n",
      "memory usage: 3.1+ MB\n"
     ]
    },
    {
     "data": {
      "text/html": [
       "<div>\n",
       "<style scoped>\n",
       "    .dataframe tbody tr th:only-of-type {\n",
       "        vertical-align: middle;\n",
       "    }\n",
       "\n",
       "    .dataframe tbody tr th {\n",
       "        vertical-align: top;\n",
       "    }\n",
       "\n",
       "    .dataframe thead th {\n",
       "        text-align: right;\n",
       "    }\n",
       "</style>\n",
       "<table border=\"1\" class=\"dataframe\">\n",
       "  <thead>\n",
       "    <tr style=\"text-align: right;\">\n",
       "      <th></th>\n",
       "      <th>Restaurant_id</th>\n",
       "      <th>City</th>\n",
       "      <th>Cuisine Style</th>\n",
       "      <th>Ranking</th>\n",
       "      <th>Rating</th>\n",
       "      <th>Price Range</th>\n",
       "      <th>Number of Reviews</th>\n",
       "      <th>Reviews</th>\n",
       "      <th>URL_TA</th>\n",
       "      <th>ID_TA</th>\n",
       "    </tr>\n",
       "  </thead>\n",
       "  <tbody>\n",
       "    <tr>\n",
       "      <th>0</th>\n",
       "      <td>id_5569</td>\n",
       "      <td>Paris</td>\n",
       "      <td>['European', 'French', 'International']</td>\n",
       "      <td>5570.0</td>\n",
       "      <td>3.5</td>\n",
       "      <td>$$ - $$$</td>\n",
       "      <td>194.0</td>\n",
       "      <td>[['Good food at your doorstep', 'A good hotel ...</td>\n",
       "      <td>/Restaurant_Review-g187147-d1912643-Reviews-R_...</td>\n",
       "      <td>d1912643</td>\n",
       "    </tr>\n",
       "    <tr>\n",
       "      <th>1</th>\n",
       "      <td>id_1535</td>\n",
       "      <td>Stockholm</td>\n",
       "      <td>NaN</td>\n",
       "      <td>1537.0</td>\n",
       "      <td>4.0</td>\n",
       "      <td>NaN</td>\n",
       "      <td>10.0</td>\n",
       "      <td>[['Unique cuisine', 'Delicious Nepalese food']...</td>\n",
       "      <td>/Restaurant_Review-g189852-d7992032-Reviews-Bu...</td>\n",
       "      <td>d7992032</td>\n",
       "    </tr>\n",
       "    <tr>\n",
       "      <th>2</th>\n",
       "      <td>id_352</td>\n",
       "      <td>London</td>\n",
       "      <td>['Japanese', 'Sushi', 'Asian', 'Grill', 'Veget...</td>\n",
       "      <td>353.0</td>\n",
       "      <td>4.5</td>\n",
       "      <td>$$$$</td>\n",
       "      <td>688.0</td>\n",
       "      <td>[['Catch up with friends', 'Not exceptional'],...</td>\n",
       "      <td>/Restaurant_Review-g186338-d8632781-Reviews-RO...</td>\n",
       "      <td>d8632781</td>\n",
       "    </tr>\n",
       "    <tr>\n",
       "      <th>3</th>\n",
       "      <td>id_3456</td>\n",
       "      <td>Berlin</td>\n",
       "      <td>NaN</td>\n",
       "      <td>3458.0</td>\n",
       "      <td>5.0</td>\n",
       "      <td>NaN</td>\n",
       "      <td>3.0</td>\n",
       "      <td>[[], []]</td>\n",
       "      <td>/Restaurant_Review-g187323-d1358776-Reviews-Es...</td>\n",
       "      <td>d1358776</td>\n",
       "    </tr>\n",
       "    <tr>\n",
       "      <th>4</th>\n",
       "      <td>id_615</td>\n",
       "      <td>Munich</td>\n",
       "      <td>['German', 'Central European', 'Vegetarian Fri...</td>\n",
       "      <td>621.0</td>\n",
       "      <td>4.0</td>\n",
       "      <td>$$ - $$$</td>\n",
       "      <td>84.0</td>\n",
       "      <td>[['Best place to try a Bavarian food', 'Nice b...</td>\n",
       "      <td>/Restaurant_Review-g187309-d6864963-Reviews-Au...</td>\n",
       "      <td>d6864963</td>\n",
       "    </tr>\n",
       "  </tbody>\n",
       "</table>\n",
       "</div>"
      ],
      "text/plain": [
       "  Restaurant_id       City                                      Cuisine Style  \\\n",
       "0       id_5569      Paris            ['European', 'French', 'International']   \n",
       "1       id_1535  Stockholm                                                NaN   \n",
       "2        id_352     London  ['Japanese', 'Sushi', 'Asian', 'Grill', 'Veget...   \n",
       "3       id_3456     Berlin                                                NaN   \n",
       "4        id_615     Munich  ['German', 'Central European', 'Vegetarian Fri...   \n",
       "\n",
       "   Ranking  Rating Price Range  Number of Reviews  \\\n",
       "0   5570.0     3.5    $$ - $$$              194.0   \n",
       "1   1537.0     4.0         NaN               10.0   \n",
       "2    353.0     4.5        $$$$              688.0   \n",
       "3   3458.0     5.0         NaN                3.0   \n",
       "4    621.0     4.0    $$ - $$$               84.0   \n",
       "\n",
       "                                             Reviews  \\\n",
       "0  [['Good food at your doorstep', 'A good hotel ...   \n",
       "1  [['Unique cuisine', 'Delicious Nepalese food']...   \n",
       "2  [['Catch up with friends', 'Not exceptional'],...   \n",
       "3                                           [[], []]   \n",
       "4  [['Best place to try a Bavarian food', 'Nice b...   \n",
       "\n",
       "                                              URL_TA     ID_TA  \n",
       "0  /Restaurant_Review-g187147-d1912643-Reviews-R_...  d1912643  \n",
       "1  /Restaurant_Review-g189852-d7992032-Reviews-Bu...  d7992032  \n",
       "2  /Restaurant_Review-g186338-d8632781-Reviews-RO...  d8632781  \n",
       "3  /Restaurant_Review-g187323-d1358776-Reviews-Es...  d1358776  \n",
       "4  /Restaurant_Review-g187309-d6864963-Reviews-Au...  d6864963  "
      ]
     },
     "execution_count": 2,
     "metadata": {},
     "output_type": "execute_result"
    }
   ],
   "source": [
    "df_train = pd.read_csv('main_task.csv') #main_task.csv')\n",
    "df_test = pd.read_csv('kaggle_task.csv') #kaggle_task.csv')\n",
    "sample_submission = pd.read_csv('sample_submission.csv') #sample_submission.csv')\n",
    " \n",
    "df_train.info()\n",
    "df_train.head()"
   ]
  },
  {
   "cell_type": "code",
   "execution_count": 3,
   "metadata": {
    "colab": {
     "base_uri": "https://localhost:8080/",
     "height": 870
    },
    "executionInfo": {
     "elapsed": 1667,
     "status": "ok",
     "timestamp": 1608103264904,
     "user": {
      "displayName": "Kost Bezon",
      "photoUrl": "",
      "userId": "03646334733882107726"
     },
     "user_tz": -180
    },
    "id": "GrftjW7fxpN6",
    "outputId": "3b5f79bd-d6a1-4e02-9ada-57e2b1e38e8c"
   },
   "outputs": [
    {
     "name": "stdout",
     "output_type": "stream",
     "text": [
      "<class 'pandas.core.frame.DataFrame'>\n",
      "RangeIndex: 10000 entries, 0 to 9999\n",
      "Data columns (total 9 columns):\n",
      " #   Column             Non-Null Count  Dtype  \n",
      "---  ------             --------------  -----  \n",
      " 0   Restaurant_id      10000 non-null  object \n",
      " 1   City               10000 non-null  object \n",
      " 2   Cuisine Style      7693 non-null   object \n",
      " 3   Ranking            10000 non-null  float64\n",
      " 4   Price Range        6525 non-null   object \n",
      " 5   Number of Reviews  9343 non-null   float64\n",
      " 6   Reviews            9998 non-null   object \n",
      " 7   URL_TA             10000 non-null  object \n",
      " 8   ID_TA              10000 non-null  object \n",
      "dtypes: float64(2), object(7)\n",
      "memory usage: 703.2+ KB\n"
     ]
    },
    {
     "data": {
      "text/html": [
       "<div>\n",
       "<style scoped>\n",
       "    .dataframe tbody tr th:only-of-type {\n",
       "        vertical-align: middle;\n",
       "    }\n",
       "\n",
       "    .dataframe tbody tr th {\n",
       "        vertical-align: top;\n",
       "    }\n",
       "\n",
       "    .dataframe thead th {\n",
       "        text-align: right;\n",
       "    }\n",
       "</style>\n",
       "<table border=\"1\" class=\"dataframe\">\n",
       "  <thead>\n",
       "    <tr style=\"text-align: right;\">\n",
       "      <th></th>\n",
       "      <th>Restaurant_id</th>\n",
       "      <th>City</th>\n",
       "      <th>Cuisine Style</th>\n",
       "      <th>Ranking</th>\n",
       "      <th>Price Range</th>\n",
       "      <th>Number of Reviews</th>\n",
       "      <th>Reviews</th>\n",
       "      <th>URL_TA</th>\n",
       "      <th>ID_TA</th>\n",
       "    </tr>\n",
       "  </thead>\n",
       "  <tbody>\n",
       "    <tr>\n",
       "      <th>0</th>\n",
       "      <td>id_0</td>\n",
       "      <td>Paris</td>\n",
       "      <td>['Bar', 'Pub']</td>\n",
       "      <td>12963.0</td>\n",
       "      <td>$$ - $$$</td>\n",
       "      <td>4.0</td>\n",
       "      <td>[[], []]</td>\n",
       "      <td>/Restaurant_Review-g187147-d10746918-Reviews-L...</td>\n",
       "      <td>d10746918</td>\n",
       "    </tr>\n",
       "    <tr>\n",
       "      <th>1</th>\n",
       "      <td>id_1</td>\n",
       "      <td>Helsinki</td>\n",
       "      <td>['European', 'Scandinavian', 'Gluten Free Opti...</td>\n",
       "      <td>106.0</td>\n",
       "      <td>$$ - $$$</td>\n",
       "      <td>97.0</td>\n",
       "      <td>[['Very good reviews!', 'Fine dining in Hakani...</td>\n",
       "      <td>/Restaurant_Review-g189934-d6674944-Reviews-Ra...</td>\n",
       "      <td>d6674944</td>\n",
       "    </tr>\n",
       "    <tr>\n",
       "      <th>2</th>\n",
       "      <td>id_2</td>\n",
       "      <td>Edinburgh</td>\n",
       "      <td>['Vegetarian Friendly']</td>\n",
       "      <td>810.0</td>\n",
       "      <td>$$ - $$$</td>\n",
       "      <td>28.0</td>\n",
       "      <td>[['Better than the Links', 'Ivy Black'], ['12/...</td>\n",
       "      <td>/Restaurant_Review-g186525-d13129638-Reviews-B...</td>\n",
       "      <td>d13129638</td>\n",
       "    </tr>\n",
       "    <tr>\n",
       "      <th>3</th>\n",
       "      <td>id_3</td>\n",
       "      <td>London</td>\n",
       "      <td>['Italian', 'Mediterranean', 'European', 'Vege...</td>\n",
       "      <td>1669.0</td>\n",
       "      <td>$$$$</td>\n",
       "      <td>202.0</td>\n",
       "      <td>[['Most exquisite', 'Delicious and authentic']...</td>\n",
       "      <td>/Restaurant_Review-g186338-d680417-Reviews-Qui...</td>\n",
       "      <td>d680417</td>\n",
       "    </tr>\n",
       "    <tr>\n",
       "      <th>4</th>\n",
       "      <td>id_4</td>\n",
       "      <td>Bratislava</td>\n",
       "      <td>['Italian', 'Mediterranean', 'European', 'Seaf...</td>\n",
       "      <td>37.0</td>\n",
       "      <td>$$$$</td>\n",
       "      <td>162.0</td>\n",
       "      <td>[['Always the best in bratislava', 'Very good ...</td>\n",
       "      <td>/Restaurant_Review-g274924-d1112354-Reviews-Ma...</td>\n",
       "      <td>d1112354</td>\n",
       "    </tr>\n",
       "  </tbody>\n",
       "</table>\n",
       "</div>"
      ],
      "text/plain": [
       "  Restaurant_id        City  \\\n",
       "0          id_0       Paris   \n",
       "1          id_1    Helsinki   \n",
       "2          id_2   Edinburgh   \n",
       "3          id_3      London   \n",
       "4          id_4  Bratislava   \n",
       "\n",
       "                                       Cuisine Style  Ranking Price Range  \\\n",
       "0                                     ['Bar', 'Pub']  12963.0    $$ - $$$   \n",
       "1  ['European', 'Scandinavian', 'Gluten Free Opti...    106.0    $$ - $$$   \n",
       "2                            ['Vegetarian Friendly']    810.0    $$ - $$$   \n",
       "3  ['Italian', 'Mediterranean', 'European', 'Vege...   1669.0        $$$$   \n",
       "4  ['Italian', 'Mediterranean', 'European', 'Seaf...     37.0        $$$$   \n",
       "\n",
       "   Number of Reviews                                            Reviews  \\\n",
       "0                4.0                                           [[], []]   \n",
       "1               97.0  [['Very good reviews!', 'Fine dining in Hakani...   \n",
       "2               28.0  [['Better than the Links', 'Ivy Black'], ['12/...   \n",
       "3              202.0  [['Most exquisite', 'Delicious and authentic']...   \n",
       "4              162.0  [['Always the best in bratislava', 'Very good ...   \n",
       "\n",
       "                                              URL_TA      ID_TA  \n",
       "0  /Restaurant_Review-g187147-d10746918-Reviews-L...  d10746918  \n",
       "1  /Restaurant_Review-g189934-d6674944-Reviews-Ra...   d6674944  \n",
       "2  /Restaurant_Review-g186525-d13129638-Reviews-B...  d13129638  \n",
       "3  /Restaurant_Review-g186338-d680417-Reviews-Qui...    d680417  \n",
       "4  /Restaurant_Review-g274924-d1112354-Reviews-Ma...   d1112354  "
      ]
     },
     "execution_count": 3,
     "metadata": {},
     "output_type": "execute_result"
    }
   ],
   "source": [
    "df_test.info()\n",
    "df_test.head()"
   ]
  },
  {
   "cell_type": "code",
   "execution_count": 4,
   "metadata": {
    "colab": {
     "base_uri": "https://localhost:8080/",
     "height": 377
    },
    "executionInfo": {
     "elapsed": 2099,
     "status": "ok",
     "timestamp": 1608103272787,
     "user": {
      "displayName": "Kost Bezon",
      "photoUrl": "",
      "userId": "03646334733882107726"
     },
     "user_tz": -180
    },
    "id": "8CaukqeLxpN8",
    "outputId": "7711f38b-7bf4-46d3-b5e9-a9b79936cc8c"
   },
   "outputs": [
    {
     "name": "stdout",
     "output_type": "stream",
     "text": [
      "<class 'pandas.core.frame.DataFrame'>\n",
      "RangeIndex: 10000 entries, 0 to 9999\n",
      "Data columns (total 2 columns):\n",
      " #   Column         Non-Null Count  Dtype  \n",
      "---  ------         --------------  -----  \n",
      " 0   Restaurant_id  10000 non-null  object \n",
      " 1   Rating         10000 non-null  float64\n",
      "dtypes: float64(1), object(1)\n",
      "memory usage: 156.4+ KB\n"
     ]
    },
    {
     "data": {
      "text/html": [
       "<div>\n",
       "<style scoped>\n",
       "    .dataframe tbody tr th:only-of-type {\n",
       "        vertical-align: middle;\n",
       "    }\n",
       "\n",
       "    .dataframe tbody tr th {\n",
       "        vertical-align: top;\n",
       "    }\n",
       "\n",
       "    .dataframe thead th {\n",
       "        text-align: right;\n",
       "    }\n",
       "</style>\n",
       "<table border=\"1\" class=\"dataframe\">\n",
       "  <thead>\n",
       "    <tr style=\"text-align: right;\">\n",
       "      <th></th>\n",
       "      <th>Restaurant_id</th>\n",
       "      <th>Rating</th>\n",
       "    </tr>\n",
       "  </thead>\n",
       "  <tbody>\n",
       "    <tr>\n",
       "      <th>0</th>\n",
       "      <td>id_0</td>\n",
       "      <td>2.0</td>\n",
       "    </tr>\n",
       "    <tr>\n",
       "      <th>1</th>\n",
       "      <td>id_1</td>\n",
       "      <td>2.5</td>\n",
       "    </tr>\n",
       "    <tr>\n",
       "      <th>2</th>\n",
       "      <td>id_2</td>\n",
       "      <td>4.0</td>\n",
       "    </tr>\n",
       "    <tr>\n",
       "      <th>3</th>\n",
       "      <td>id_3</td>\n",
       "      <td>1.0</td>\n",
       "    </tr>\n",
       "    <tr>\n",
       "      <th>4</th>\n",
       "      <td>id_4</td>\n",
       "      <td>4.0</td>\n",
       "    </tr>\n",
       "  </tbody>\n",
       "</table>\n",
       "</div>"
      ],
      "text/plain": [
       "  Restaurant_id  Rating\n",
       "0          id_0     2.0\n",
       "1          id_1     2.5\n",
       "2          id_2     4.0\n",
       "3          id_3     1.0\n",
       "4          id_4     4.0"
      ]
     },
     "execution_count": 4,
     "metadata": {},
     "output_type": "execute_result"
    }
   ],
   "source": [
    "sample_submission.info()\n",
    "sample_submission.head()"
   ]
  },
  {
   "cell_type": "code",
   "execution_count": 5,
   "metadata": {
    "colab": {
     "base_uri": "https://localhost:8080/"
    },
    "executionInfo": {
     "elapsed": 4445,
     "status": "ok",
     "timestamp": 1608200064624,
     "user": {
      "displayName": "Kost Bezon",
      "photoUrl": "",
      "userId": "03646334733882107726"
     },
     "user_tz": -180
    },
    "id": "fdGkZKTzxpN_",
    "outputId": "12d47bef-4806-4838-a52a-cb739593a86b"
   },
   "outputs": [
    {
     "name": "stdout",
     "output_type": "stream",
     "text": [
      "<class 'pandas.core.frame.DataFrame'>\n",
      "RangeIndex: 50000 entries, 0 to 49999\n",
      "Data columns (total 11 columns):\n",
      " #   Column             Non-Null Count  Dtype  \n",
      "---  ------             --------------  -----  \n",
      " 0   Restaurant_id      50000 non-null  object \n",
      " 1   City               50000 non-null  object \n",
      " 2   Cuisine Style      38410 non-null  object \n",
      " 3   Ranking            50000 non-null  float64\n",
      " 4   Price Range        32639 non-null  object \n",
      " 5   Number of Reviews  46800 non-null  float64\n",
      " 6   Reviews            49998 non-null  object \n",
      " 7   URL_TA             50000 non-null  object \n",
      " 8   ID_TA              50000 non-null  object \n",
      " 9   sample             50000 non-null  int64  \n",
      " 10  Rating             50000 non-null  float64\n",
      "dtypes: float64(3), int64(1), object(7)\n",
      "memory usage: 4.2+ MB\n"
     ]
    }
   ],
   "source": [
    "# for correct processing of features, combine the train and test into one dataset\n",
    "df_train['sample'] = 1 # mark where we have train\n",
    "df_test['sample'] = 0 # mark where we have the test\n",
    "df_test['Rating'] = 0 # in the test we do not have the Rating value, we must predict it, so for now we just fill it with zeros\n",
    " \n",
    "data = df_test.append(df_train, sort=False).reset_index(drop=True) # unite\n",
    " \n",
    "data.info()"
   ]
  },
  {
   "cell_type": "markdown",
   "metadata": {
    "id": "qxUry3VCxpOD"
   },
   "source": [
    "More on the signs:\n",
    "\n",
    "- City: City\n",
    "- Cuisine Style: Cuisine\n",
    "- Ranking: Rank of the restaurant relative to other restaurants in the city\n",
    "- Price Range: Restaurant prices in 3 categories\n",
    "- Number of Reviews: Number of Reviews\n",
    "- Reviews: 2 most recent reviews and the dates of these reviews\n",
    "- URL_TA: Restaurant page on 'www.tripadvisor.com'\n",
    "- ID_TA: ID of the restaurant on TripAdvisor\n",
    "- Rating: Rating of the restaurant"
   ]
  },
  {
   "cell_type": "code",
   "execution_count": 6,
   "metadata": {
    "colab": {
     "base_uri": "https://localhost:8080/",
     "height": 513
    },
    "executionInfo": {
     "elapsed": 1767,
     "status": "ok",
     "timestamp": 1608103291742,
     "user": {
      "displayName": "Kost Bezon",
      "photoUrl": "",
      "userId": "03646334733882107726"
     },
     "user_tz": -180
    },
    "id": "5mR1LwbAxpOF",
    "outputId": "d29deb51-3414-428b-a1ea-faae3d9f0c97"
   },
   "outputs": [
    {
     "data": {
      "text/html": [
       "<div>\n",
       "<style scoped>\n",
       "    .dataframe tbody tr th:only-of-type {\n",
       "        vertical-align: middle;\n",
       "    }\n",
       "\n",
       "    .dataframe tbody tr th {\n",
       "        vertical-align: top;\n",
       "    }\n",
       "\n",
       "    .dataframe thead th {\n",
       "        text-align: right;\n",
       "    }\n",
       "</style>\n",
       "<table border=\"1\" class=\"dataframe\">\n",
       "  <thead>\n",
       "    <tr style=\"text-align: right;\">\n",
       "      <th></th>\n",
       "      <th>Restaurant_id</th>\n",
       "      <th>City</th>\n",
       "      <th>Cuisine Style</th>\n",
       "      <th>Ranking</th>\n",
       "      <th>Price Range</th>\n",
       "      <th>Number of Reviews</th>\n",
       "      <th>Reviews</th>\n",
       "      <th>URL_TA</th>\n",
       "      <th>ID_TA</th>\n",
       "      <th>sample</th>\n",
       "      <th>Rating</th>\n",
       "    </tr>\n",
       "  </thead>\n",
       "  <tbody>\n",
       "    <tr>\n",
       "      <th>21995</th>\n",
       "      <td>id_1660</td>\n",
       "      <td>Lisbon</td>\n",
       "      <td>['European', 'Contemporary', 'Healthy', 'Portu...</td>\n",
       "      <td>1661.0</td>\n",
       "      <td>$$ - $$$</td>\n",
       "      <td>3.0</td>\n",
       "      <td>[[], []]</td>\n",
       "      <td>/Restaurant_Review-g189158-d13163694-Reviews-S...</td>\n",
       "      <td>d13163694</td>\n",
       "      <td>1</td>\n",
       "      <td>5.0</td>\n",
       "    </tr>\n",
       "    <tr>\n",
       "      <th>29394</th>\n",
       "      <td>id_1101</td>\n",
       "      <td>Warsaw</td>\n",
       "      <td>['Italian', 'French', 'Chinese', 'Polish', 'Eu...</td>\n",
       "      <td>1102.0</td>\n",
       "      <td>$</td>\n",
       "      <td>NaN</td>\n",
       "      <td>[[], []]</td>\n",
       "      <td>/Restaurant_Review-g274856-d12871470-Reviews-M...</td>\n",
       "      <td>d12871470</td>\n",
       "      <td>1</td>\n",
       "      <td>5.0</td>\n",
       "    </tr>\n",
       "    <tr>\n",
       "      <th>8319</th>\n",
       "      <td>id_8319</td>\n",
       "      <td>Rome</td>\n",
       "      <td>['Italian', 'Mediterranean', 'Wine Bar', 'Vege...</td>\n",
       "      <td>305.0</td>\n",
       "      <td>$$ - $$$</td>\n",
       "      <td>2760.0</td>\n",
       "      <td>[['Delicious and good value for money', 'Fabul...</td>\n",
       "      <td>/Restaurant_Review-g187791-d786482-Reviews-Vin...</td>\n",
       "      <td>d786482</td>\n",
       "      <td>0</td>\n",
       "      <td>0.0</td>\n",
       "    </tr>\n",
       "    <tr>\n",
       "      <th>18594</th>\n",
       "      <td>id_13811</td>\n",
       "      <td>London</td>\n",
       "      <td>['Japanese', 'Asian', 'Sushi']</td>\n",
       "      <td>13821.0</td>\n",
       "      <td>$$ - $$$</td>\n",
       "      <td>70.0</td>\n",
       "      <td>[['Authentic Izakaya', 'Brilliant'], ['11/18/2...</td>\n",
       "      <td>/Restaurant_Review-g186338-d1044792-Reviews-Yo...</td>\n",
       "      <td>d1044792</td>\n",
       "      <td>1</td>\n",
       "      <td>3.5</td>\n",
       "    </tr>\n",
       "    <tr>\n",
       "      <th>43350</th>\n",
       "      <td>id_55</td>\n",
       "      <td>Hamburg</td>\n",
       "      <td>['German', 'Seafood', 'European', 'Soups']</td>\n",
       "      <td>56.0</td>\n",
       "      <td>$$ - $$$</td>\n",
       "      <td>373.0</td>\n",
       "      <td>[['Fantastic meal- both fisch and wein', 'Good...</td>\n",
       "      <td>/Restaurant_Review-g187331-d954481-Reviews-Fis...</td>\n",
       "      <td>d954481</td>\n",
       "      <td>1</td>\n",
       "      <td>4.5</td>\n",
       "    </tr>\n",
       "  </tbody>\n",
       "</table>\n",
       "</div>"
      ],
      "text/plain": [
       "      Restaurant_id     City  \\\n",
       "21995       id_1660   Lisbon   \n",
       "29394       id_1101   Warsaw   \n",
       "8319        id_8319     Rome   \n",
       "18594      id_13811   London   \n",
       "43350         id_55  Hamburg   \n",
       "\n",
       "                                           Cuisine Style  Ranking Price Range  \\\n",
       "21995  ['European', 'Contemporary', 'Healthy', 'Portu...   1661.0    $$ - $$$   \n",
       "29394  ['Italian', 'French', 'Chinese', 'Polish', 'Eu...   1102.0           $   \n",
       "8319   ['Italian', 'Mediterranean', 'Wine Bar', 'Vege...    305.0    $$ - $$$   \n",
       "18594                     ['Japanese', 'Asian', 'Sushi']  13821.0    $$ - $$$   \n",
       "43350         ['German', 'Seafood', 'European', 'Soups']     56.0    $$ - $$$   \n",
       "\n",
       "       Number of Reviews                                            Reviews  \\\n",
       "21995                3.0                                           [[], []]   \n",
       "29394                NaN                                           [[], []]   \n",
       "8319              2760.0  [['Delicious and good value for money', 'Fabul...   \n",
       "18594               70.0  [['Authentic Izakaya', 'Brilliant'], ['11/18/2...   \n",
       "43350              373.0  [['Fantastic meal- both fisch and wein', 'Good...   \n",
       "\n",
       "                                                  URL_TA      ID_TA  sample  \\\n",
       "21995  /Restaurant_Review-g189158-d13163694-Reviews-S...  d13163694       1   \n",
       "29394  /Restaurant_Review-g274856-d12871470-Reviews-M...  d12871470       1   \n",
       "8319   /Restaurant_Review-g187791-d786482-Reviews-Vin...    d786482       0   \n",
       "18594  /Restaurant_Review-g186338-d1044792-Reviews-Yo...   d1044792       1   \n",
       "43350  /Restaurant_Review-g187331-d954481-Reviews-Fis...    d954481       1   \n",
       "\n",
       "       Rating  \n",
       "21995     5.0  \n",
       "29394     5.0  \n",
       "8319      0.0  \n",
       "18594     3.5  \n",
       "43350     4.5  "
      ]
     },
     "execution_count": 6,
     "metadata": {},
     "output_type": "execute_result"
    }
   ],
   "source": [
    "data.sample(5)"
   ]
  },
  {
   "cell_type": "markdown",
   "metadata": {
    "id": "viz41VBoxpOI"
   },
   "source": [
    "## Cleaning and Prepping Data"
   ]
  },
  {
   "cell_type": "markdown",
   "metadata": {
    "id": "amRDtzGWxpOK"
   },
   "source": [
    "### 1. 'City'"
   ]
  },
  {
   "cell_type": "code",
   "execution_count": 7,
   "metadata": {
    "colab": {
     "base_uri": "https://localhost:8080/",
     "height": 564
    },
    "executionInfo": {
     "elapsed": 10690,
     "status": "ok",
     "timestamp": 1608200273558,
     "user": {
      "displayName": "Kost Bezon",
      "photoUrl": "",
      "userId": "03646334733882107726"
     },
     "user_tz": -180
    },
    "id": "t2MdqF5dxpOL",
    "outputId": "879b5e7f-3d03-4871-832c-860a5e47314a",
    "scrolled": false
   },
   "outputs": [
    {
     "data": {
      "text/html": [
       "<div>\n",
       "<style scoped>\n",
       "    .dataframe tbody tr th:only-of-type {\n",
       "        vertical-align: middle;\n",
       "    }\n",
       "\n",
       "    .dataframe tbody tr th {\n",
       "        vertical-align: top;\n",
       "    }\n",
       "\n",
       "    .dataframe thead th {\n",
       "        text-align: right;\n",
       "    }\n",
       "</style>\n",
       "<table border=\"1\" class=\"dataframe\">\n",
       "  <thead>\n",
       "    <tr style=\"text-align: right;\">\n",
       "      <th></th>\n",
       "      <th>Restaurant_id</th>\n",
       "      <th>City</th>\n",
       "      <th>Cuisine Style</th>\n",
       "      <th>Ranking</th>\n",
       "      <th>Price Range</th>\n",
       "      <th>Number of Reviews</th>\n",
       "      <th>Reviews</th>\n",
       "      <th>URL_TA</th>\n",
       "      <th>ID_TA</th>\n",
       "      <th>sample</th>\n",
       "      <th>Rating</th>\n",
       "      <th>city_norm</th>\n",
       "      <th>City_Rank</th>\n",
       "    </tr>\n",
       "  </thead>\n",
       "  <tbody>\n",
       "    <tr>\n",
       "      <th>0</th>\n",
       "      <td>id_0</td>\n",
       "      <td>Paris</td>\n",
       "      <td>['Bar', 'Pub']</td>\n",
       "      <td>12963.0</td>\n",
       "      <td>$$ - $$$</td>\n",
       "      <td>4.0</td>\n",
       "      <td>[[], []]</td>\n",
       "      <td>/Restaurant_Review-g187147-d10746918-Reviews-L...</td>\n",
       "      <td>d10746918</td>\n",
       "      <td>0</td>\n",
       "      <td>0.0</td>\n",
       "      <td>-0.004292</td>\n",
       "      <td>2.122299</td>\n",
       "    </tr>\n",
       "    <tr>\n",
       "      <th>1</th>\n",
       "      <td>id_1</td>\n",
       "      <td>Helsinki</td>\n",
       "      <td>['European', 'Scandinavian', 'Gluten Free Opti...</td>\n",
       "      <td>106.0</td>\n",
       "      <td>$$ - $$$</td>\n",
       "      <td>97.0</td>\n",
       "      <td>[['Very good reviews!', 'Fine dining in Hakani...</td>\n",
       "      <td>/Restaurant_Review-g189934-d6674944-Reviews-Ra...</td>\n",
       "      <td>d6674944</td>\n",
       "      <td>0</td>\n",
       "      <td>0.0</td>\n",
       "      <td>0.010202</td>\n",
       "      <td>0.223158</td>\n",
       "    </tr>\n",
       "    <tr>\n",
       "      <th>2</th>\n",
       "      <td>id_2</td>\n",
       "      <td>Edinburgh</td>\n",
       "      <td>['Vegetarian Friendly']</td>\n",
       "      <td>810.0</td>\n",
       "      <td>$$ - $$$</td>\n",
       "      <td>28.0</td>\n",
       "      <td>[['Better than the Links', 'Ivy Black'], ['12/...</td>\n",
       "      <td>/Restaurant_Review-g186525-d13129638-Reviews-B...</td>\n",
       "      <td>d13129638</td>\n",
       "      <td>0</td>\n",
       "      <td>0.0</td>\n",
       "      <td>0.006097</td>\n",
       "      <td>1.087248</td>\n",
       "    </tr>\n",
       "    <tr>\n",
       "      <th>3</th>\n",
       "      <td>id_3</td>\n",
       "      <td>London</td>\n",
       "      <td>['Italian', 'Mediterranean', 'European', 'Vege...</td>\n",
       "      <td>1669.0</td>\n",
       "      <td>$$$$</td>\n",
       "      <td>202.0</td>\n",
       "      <td>[['Most exquisite', 'Delicious and authentic']...</td>\n",
       "      <td>/Restaurant_Review-g186338-d680417-Reviews-Qui...</td>\n",
       "      <td>d680417</td>\n",
       "      <td>0</td>\n",
       "      <td>0.0</td>\n",
       "      <td>-0.004700</td>\n",
       "      <td>0.232031</td>\n",
       "    </tr>\n",
       "    <tr>\n",
       "      <th>4</th>\n",
       "      <td>id_4</td>\n",
       "      <td>Bratislava</td>\n",
       "      <td>['Italian', 'Mediterranean', 'European', 'Seaf...</td>\n",
       "      <td>37.0</td>\n",
       "      <td>$$$$</td>\n",
       "      <td>162.0</td>\n",
       "      <td>[['Always the best in bratislava', 'Very good ...</td>\n",
       "      <td>/Restaurant_Review-g274924-d1112354-Reviews-Ma...</td>\n",
       "      <td>d1112354</td>\n",
       "      <td>0</td>\n",
       "      <td>0.0</td>\n",
       "      <td>0.012611</td>\n",
       "      <td>0.097368</td>\n",
       "    </tr>\n",
       "  </tbody>\n",
       "</table>\n",
       "</div>"
      ],
      "text/plain": [
       "  Restaurant_id        City  \\\n",
       "0          id_0       Paris   \n",
       "1          id_1    Helsinki   \n",
       "2          id_2   Edinburgh   \n",
       "3          id_3      London   \n",
       "4          id_4  Bratislava   \n",
       "\n",
       "                                       Cuisine Style  Ranking Price Range  \\\n",
       "0                                     ['Bar', 'Pub']  12963.0    $$ - $$$   \n",
       "1  ['European', 'Scandinavian', 'Gluten Free Opti...    106.0    $$ - $$$   \n",
       "2                            ['Vegetarian Friendly']    810.0    $$ - $$$   \n",
       "3  ['Italian', 'Mediterranean', 'European', 'Vege...   1669.0        $$$$   \n",
       "4  ['Italian', 'Mediterranean', 'European', 'Seaf...     37.0        $$$$   \n",
       "\n",
       "   Number of Reviews                                            Reviews  \\\n",
       "0                4.0                                           [[], []]   \n",
       "1               97.0  [['Very good reviews!', 'Fine dining in Hakani...   \n",
       "2               28.0  [['Better than the Links', 'Ivy Black'], ['12/...   \n",
       "3              202.0  [['Most exquisite', 'Delicious and authentic']...   \n",
       "4              162.0  [['Always the best in bratislava', 'Very good ...   \n",
       "\n",
       "                                              URL_TA      ID_TA  sample  \\\n",
       "0  /Restaurant_Review-g187147-d10746918-Reviews-L...  d10746918       0   \n",
       "1  /Restaurant_Review-g189934-d6674944-Reviews-Ra...   d6674944       0   \n",
       "2  /Restaurant_Review-g186525-d13129638-Reviews-B...  d13129638       0   \n",
       "3  /Restaurant_Review-g186338-d680417-Reviews-Qui...    d680417       0   \n",
       "4  /Restaurant_Review-g274924-d1112354-Reviews-Ma...   d1112354       0   \n",
       "\n",
       "   Rating  city_norm  City_Rank  \n",
       "0     0.0  -0.004292   2.122299  \n",
       "1     0.0   0.010202   0.223158  \n",
       "2     0.0   0.006097   1.087248  \n",
       "3     0.0  -0.004700   0.232031  \n",
       "4     0.0   0.012611   0.097368  "
      ]
     },
     "execution_count": 7,
     "metadata": {},
     "output_type": "execute_result"
    }
   ],
   "source": [
    "data['city_norm'] = dummy(pd.get_dummies(data.City)) # create dummy feature\n",
    "\n",
    "# create feature contain restaurants count in city\n",
    "count_res = data.groupby([\"City\"])[\"Restaurant_id\"].count() # restaurants count\n",
    "dict_res = dict(zip(count_res.keys(),count_res.values)) # create dictionary\n",
    "data['City_Rank'] = data['City'].replace(to_replace=dict_res) # replacing city on restaurants count\n",
    "data['City_Rank'] = data['Ranking']/data['City_Rank'] # devision on City_Rank\n",
    "data.head()"
   ]
  },
  {
   "cell_type": "code",
   "execution_count": 9,
   "metadata": {
    "colab": {
     "base_uri": "https://localhost:8080/",
     "height": 149
    },
    "executionInfo": {
     "elapsed": 3027,
     "status": "ok",
     "timestamp": 1608186870320,
     "user": {
      "displayName": "Kost Bezon",
      "photoUrl": "",
      "userId": "03646334733882107726"
     },
     "user_tz": -180
    },
    "id": "RiFT0VMHxpOO",
    "outputId": "53766813-a6fc-4d01-d0c2-d6427a5503cc"
   },
   "outputs": [
    {
     "data": {
      "text/plain": [
       "<AxesSubplot:>"
      ]
     },
     "execution_count": 9,
     "metadata": {},
     "output_type": "execute_result"
    },
    {
     "data": {
      "image/png": "[encoded data removed]",
      "text/plain": [
       "<Figure size 1440x504 with 1 Axes>"
      ]
     },
     "metadata": {
      "needs_background": "light"
     },
     "output_type": "display_data"
    }
   ],
   "source": [
    "plt.rcParams['figure.figsize'] = (20,7)\n",
    "data['city_norm'].hist(bins=30)"
   ]
  },
  {
   "cell_type": "code",
   "execution_count": 10,
   "metadata": {
    "colab": {
     "base_uri": "https://localhost:8080/",
     "height": 240
    },
    "executionInfo": {
     "elapsed": 2685,
     "status": "ok",
     "timestamp": 1608186900797,
     "user": {
      "displayName": "Kost Bezon",
      "photoUrl": "",
      "userId": "03646334733882107726"
     },
     "user_tz": -180
    },
    "id": "zAr8OOH1aF6J",
    "outputId": "97d9cced-5796-4a95-e9bf-993853a3631e"
   },
   "outputs": [
    {
     "data": {
      "text/plain": [
       "<AxesSubplot:>"
      ]
     },
     "execution_count": 10,
     "metadata": {},
     "output_type": "execute_result"
    },
    {
     "data": {
      "image/png": "[encoded data removed]",
      "text/plain": [
       "<Figure size 720x504 with 1 Axes>"
      ]
     },
     "metadata": {
      "needs_background": "light"
     },
     "output_type": "display_data"
    }
   ],
   "source": [
    "plt.rcParams['figure.figsize'] = (10,7)\n",
    "data['City_Rank'].hist(bins=100)"
   ]
  },
  {
   "cell_type": "markdown",
   "metadata": {
    "id": "BJFzhcVqxpOQ"
   },
   "source": [
    "### 2. 'Cuisine Style'"
   ]
  },
  {
   "cell_type": "code",
   "execution_count": 8,
   "metadata": {
    "colab": {
     "base_uri": "https://localhost:8080/",
     "height": 564
    },
    "executionInfo": {
     "elapsed": 12284,
     "status": "ok",
     "timestamp": 1608200342325,
     "user": {
      "displayName": "Kost Bezon",
      "photoUrl": "",
      "userId": "03646334733882107726"
     },
     "user_tz": -180
    },
    "id": "cH4XBc33VV0h",
    "outputId": "67aeb23a-63f2-4605-c496-ac7fb2eb401c",
    "scrolled": false
   },
   "outputs": [
    {
     "data": {
      "text/html": [
       "<div>\n",
       "<style scoped>\n",
       "    .dataframe tbody tr th:only-of-type {\n",
       "        vertical-align: middle;\n",
       "    }\n",
       "\n",
       "    .dataframe tbody tr th {\n",
       "        vertical-align: top;\n",
       "    }\n",
       "\n",
       "    .dataframe thead th {\n",
       "        text-align: right;\n",
       "    }\n",
       "</style>\n",
       "<table border=\"1\" class=\"dataframe\">\n",
       "  <thead>\n",
       "    <tr style=\"text-align: right;\">\n",
       "      <th></th>\n",
       "      <th>Restaurant_id</th>\n",
       "      <th>City</th>\n",
       "      <th>Cuisine Style</th>\n",
       "      <th>Ranking</th>\n",
       "      <th>Price Range</th>\n",
       "      <th>Number of Reviews</th>\n",
       "      <th>Reviews</th>\n",
       "      <th>URL_TA</th>\n",
       "      <th>ID_TA</th>\n",
       "      <th>sample</th>\n",
       "      <th>Rating</th>\n",
       "      <th>city_norm</th>\n",
       "      <th>City_Rank</th>\n",
       "      <th>cuis_norm</th>\n",
       "      <th>cuis_count</th>\n",
       "      <th>Cuisine Style is NAN</th>\n",
       "      <th>Cuis_Rank</th>\n",
       "    </tr>\n",
       "  </thead>\n",
       "  <tbody>\n",
       "    <tr>\n",
       "      <th>0</th>\n",
       "      <td>id_0</td>\n",
       "      <td>Paris</td>\n",
       "      <td>['Bar', 'Pub']</td>\n",
       "      <td>12963.0</td>\n",
       "      <td>$$ - $$$</td>\n",
       "      <td>4.0</td>\n",
       "      <td>[[], []]</td>\n",
       "      <td>/Restaurant_Review-g187147-d10746918-Reviews-L...</td>\n",
       "      <td>d10746918</td>\n",
       "      <td>0</td>\n",
       "      <td>0.0</td>\n",
       "      <td>-0.004292</td>\n",
       "      <td>2.122299</td>\n",
       "      <td>-0.003014</td>\n",
       "      <td>2.0</td>\n",
       "      <td>0</td>\n",
       "      <td>6481.500000</td>\n",
       "    </tr>\n",
       "    <tr>\n",
       "      <th>1</th>\n",
       "      <td>id_1</td>\n",
       "      <td>Helsinki</td>\n",
       "      <td>['European', 'Scandinavian', 'Gluten Free Opti...</td>\n",
       "      <td>106.0</td>\n",
       "      <td>$$ - $$$</td>\n",
       "      <td>97.0</td>\n",
       "      <td>[['Very good reviews!', 'Fine dining in Hakani...</td>\n",
       "      <td>/Restaurant_Review-g189934-d6674944-Reviews-Ra...</td>\n",
       "      <td>d6674944</td>\n",
       "      <td>0</td>\n",
       "      <td>0.0</td>\n",
       "      <td>0.010202</td>\n",
       "      <td>0.223158</td>\n",
       "      <td>0.002108</td>\n",
       "      <td>5.0</td>\n",
       "      <td>0</td>\n",
       "      <td>21.200000</td>\n",
       "    </tr>\n",
       "    <tr>\n",
       "      <th>2</th>\n",
       "      <td>id_2</td>\n",
       "      <td>Edinburgh</td>\n",
       "      <td>['Vegetarian Friendly']</td>\n",
       "      <td>810.0</td>\n",
       "      <td>$$ - $$$</td>\n",
       "      <td>28.0</td>\n",
       "      <td>[['Better than the Links', 'Ivy Black'], ['12/...</td>\n",
       "      <td>/Restaurant_Review-g186525-d13129638-Reviews-B...</td>\n",
       "      <td>d13129638</td>\n",
       "      <td>0</td>\n",
       "      <td>0.0</td>\n",
       "      <td>0.006097</td>\n",
       "      <td>1.087248</td>\n",
       "      <td>-0.005033</td>\n",
       "      <td>1.0</td>\n",
       "      <td>0</td>\n",
       "      <td>810.000000</td>\n",
       "    </tr>\n",
       "    <tr>\n",
       "      <th>3</th>\n",
       "      <td>id_3</td>\n",
       "      <td>London</td>\n",
       "      <td>['Italian', 'Mediterranean', 'European', 'Vege...</td>\n",
       "      <td>1669.0</td>\n",
       "      <td>$$$$</td>\n",
       "      <td>202.0</td>\n",
       "      <td>[['Most exquisite', 'Delicious and authentic']...</td>\n",
       "      <td>/Restaurant_Review-g186338-d680417-Reviews-Qui...</td>\n",
       "      <td>d680417</td>\n",
       "      <td>0</td>\n",
       "      <td>0.0</td>\n",
       "      <td>-0.004700</td>\n",
       "      <td>0.232031</td>\n",
       "      <td>-0.000846</td>\n",
       "      <td>5.0</td>\n",
       "      <td>0</td>\n",
       "      <td>333.800000</td>\n",
       "    </tr>\n",
       "    <tr>\n",
       "      <th>4</th>\n",
       "      <td>id_4</td>\n",
       "      <td>Bratislava</td>\n",
       "      <td>['Italian', 'Mediterranean', 'European', 'Seaf...</td>\n",
       "      <td>37.0</td>\n",
       "      <td>$$$$</td>\n",
       "      <td>162.0</td>\n",
       "      <td>[['Always the best in bratislava', 'Very good ...</td>\n",
       "      <td>/Restaurant_Review-g274924-d1112354-Reviews-Ma...</td>\n",
       "      <td>d1112354</td>\n",
       "      <td>0</td>\n",
       "      <td>0.0</td>\n",
       "      <td>0.012611</td>\n",
       "      <td>0.097368</td>\n",
       "      <td>0.001082</td>\n",
       "      <td>6.0</td>\n",
       "      <td>0</td>\n",
       "      <td>6.166667</td>\n",
       "    </tr>\n",
       "  </tbody>\n",
       "</table>\n",
       "</div>"
      ],
      "text/plain": [
       "  Restaurant_id        City  \\\n",
       "0          id_0       Paris   \n",
       "1          id_1    Helsinki   \n",
       "2          id_2   Edinburgh   \n",
       "3          id_3      London   \n",
       "4          id_4  Bratislava   \n",
       "\n",
       "                                       Cuisine Style  Ranking Price Range  \\\n",
       "0                                     ['Bar', 'Pub']  12963.0    $$ - $$$   \n",
       "1  ['European', 'Scandinavian', 'Gluten Free Opti...    106.0    $$ - $$$   \n",
       "2                            ['Vegetarian Friendly']    810.0    $$ - $$$   \n",
       "3  ['Italian', 'Mediterranean', 'European', 'Vege...   1669.0        $$$$   \n",
       "4  ['Italian', 'Mediterranean', 'European', 'Seaf...     37.0        $$$$   \n",
       "\n",
       "   Number of Reviews                                            Reviews  \\\n",
       "0                4.0                                           [[], []]   \n",
       "1               97.0  [['Very good reviews!', 'Fine dining in Hakani...   \n",
       "2               28.0  [['Better than the Links', 'Ivy Black'], ['12/...   \n",
       "3              202.0  [['Most exquisite', 'Delicious and authentic']...   \n",
       "4              162.0  [['Always the best in bratislava', 'Very good ...   \n",
       "\n",
       "                                              URL_TA      ID_TA  sample  \\\n",
       "0  /Restaurant_Review-g187147-d10746918-Reviews-L...  d10746918       0   \n",
       "1  /Restaurant_Review-g189934-d6674944-Reviews-Ra...   d6674944       0   \n",
       "2  /Restaurant_Review-g186525-d13129638-Reviews-B...  d13129638       0   \n",
       "3  /Restaurant_Review-g186338-d680417-Reviews-Qui...    d680417       0   \n",
       "4  /Restaurant_Review-g274924-d1112354-Reviews-Ma...   d1112354       0   \n",
       "\n",
       "   Rating  city_norm  City_Rank  cuis_norm  cuis_count  Cuisine Style is NAN  \\\n",
       "0     0.0  -0.004292   2.122299  -0.003014         2.0                     0   \n",
       "1     0.0   0.010202   0.223158   0.002108         5.0                     0   \n",
       "2     0.0   0.006097   1.087248  -0.005033         1.0                     0   \n",
       "3     0.0  -0.004700   0.232031  -0.000846         5.0                     0   \n",
       "4     0.0   0.012611   0.097368   0.001082         6.0                     0   \n",
       "\n",
       "     Cuis_Rank  \n",
       "0  6481.500000  \n",
       "1    21.200000  \n",
       "2   810.000000  \n",
       "3   333.800000  \n",
       "4     6.166667  "
      ]
     },
     "execution_count": 8,
     "metadata": {},
     "output_type": "execute_result"
    }
   ],
   "source": [
    "# create four new features: a feature based on all unique cuisines, \n",
    "#  their number in the restaurant, nan feature and cuisines count devision on City_Rank\n",
    " \n",
    "cuisines = [] # rows dummy\n",
    "cuis_dict = {} # for saving index cuisine in list\n",
    "cuis_count = [] # for saving cuisines count\n",
    " \n",
    "# create dummy values for cuisines\n",
    "for index in data.index:\n",
    "  string = data['Cuisine Style'][index] # copping value of cuisines\n",
    "  if str(string) != 'nan':\n",
    "    i=0 # index of string\n",
    "    j=0 # count of cuisines\n",
    "    \n",
    "    # the new row in list filled with zeros depending on the number of keys in the dictionary:\n",
    "    cuisines.append([0 for x in range(len(cuis_dict))]) \n",
    "    \n",
    "    while i<len(string)-1:\n",
    "      str_cuis = string.find(\"'\",string.find(\"'\",i)+1) # the index of the next apostrophe in the string \n",
    "      cuisine = string[string.find(\"'\",i)+1:str_cuis] # cut cuisine from string\n",
    "      \n",
    "      if cuisine not in cuis_dict.keys(): # new cuisine\n",
    "        cuis_dict[cuisine] = len(cuis_dict) # save index cuisine\n",
    "        cuisines[index].append(1) # save '1' in end of list\n",
    "      else:\n",
    "        cuisines[index][cuis_dict[cuisine]] = 1\n",
    "      \n",
    "      i = str_cuis + 1 # next symbol\n",
    "      j += 1 # plus cuisine\n",
    "    cuis_count.append(j) # save count\n",
    "  else: \n",
    "    cuis_count.append(None) \n",
    "    cuisines.append([None for x in range(len(cuis_dict))])  \n",
    " \n",
    "# create new feature\n",
    "cuisines = pd.DataFrame(cuisines, columns = list(cuis_dict.keys())) \n",
    "cuisines = cuisines.dropna(how='all') # delete empty rows\n",
    "cuisines = cuisines.fillna(0) # fill NaN zeros\n",
    "cuis_undex = cuisines.index # save index\n",
    "cuisines = dummy(cuisines) # create dummy\n",
    "cuisines = pd.DataFrame({'cuis_norm':cuisines}, index=cuis_undex) # create dataframe with values and empty rows\n",
    " \n",
    "# fill empty row in cuisines\n",
    "data = pd.concat([data,cuisines], axis=1) # concatanate tables\n",
    "data = fill_na('cuis_norm') # fill empty\n",
    " \n",
    "# create new column with count in data and fill empty values\n",
    "data['cuis_count'] = cuis_count\n",
    "data = fill_na('cuis_count')\n",
    " \n",
    "# create feature from nan of cuisine\n",
    "data['Cuisine Style is NAN'] = pd.isna(data['Cuisine Style']).astype('uint8')\n",
    " \n",
    "data['Cuis_Rank'] = data['Ranking']/data['cuis_count'] # cuisines count devision on City_Rank\n",
    " \n",
    "data.head()"
   ]
  },
  {
   "cell_type": "code",
   "execution_count": 12,
   "metadata": {
    "colab": {
     "base_uri": "https://localhost:8080/",
     "height": 150
    },
    "executionInfo": {
     "elapsed": 1876,
     "status": "ok",
     "timestamp": 1608103310337,
     "user": {
      "displayName": "Kost Bezon",
      "photoUrl": "",
      "userId": "03646334733882107726"
     },
     "user_tz": -180
    },
    "id": "3EGmUXIixpOY",
    "outputId": "eaa3f7f7-1f5e-4701-a601-2ca4aa7adbec"
   },
   "outputs": [
    {
     "data": {
      "text/plain": [
       "<AxesSubplot:>"
      ]
     },
     "execution_count": 12,
     "metadata": {},
     "output_type": "execute_result"
    },
    {
     "data": {
      "image/png": "[encoded data removed]",
      "text/plain": [
       "<Figure size 1440x504 with 1 Axes>"
      ]
     },
     "metadata": {
      "needs_background": "light"
     },
     "output_type": "display_data"
    }
   ],
   "source": [
    "plt.rcParams['figure.figsize'] = (20,7)\n",
    "data['cuis_norm'].hist(bins=200)"
   ]
  },
  {
   "cell_type": "code",
   "execution_count": 13,
   "metadata": {
    "colab": {
     "base_uri": "https://localhost:8080/",
     "height": 150
    },
    "executionInfo": {
     "elapsed": 2065,
     "status": "ok",
     "timestamp": 1608103315735,
     "user": {
      "displayName": "Kost Bezon",
      "photoUrl": "",
      "userId": "03646334733882107726"
     },
     "user_tz": -180
    },
    "id": "M59BMxoZxpOa",
    "outputId": "bec1ed37-98d6-4a05-cb9d-e96a0196c3c6"
   },
   "outputs": [
    {
     "data": {
      "text/plain": [
       "<AxesSubplot:>"
      ]
     },
     "execution_count": 13,
     "metadata": {},
     "output_type": "execute_result"
    },
    {
     "data": {
      "image/png": "[encoded data removed]",
      "text/plain": [
       "<Figure size 1440x504 with 1 Axes>"
      ]
     },
     "metadata": {
      "needs_background": "light"
     },
     "output_type": "display_data"
    }
   ],
   "source": [
    "plt.rcParams['figure.figsize'] = (20,7)\n",
    "data['cuis_count'].hist(bins=50)"
   ]
  },
  {
   "cell_type": "code",
   "execution_count": 14,
   "metadata": {
    "colab": {
     "base_uri": "https://localhost:8080/",
     "height": 238
    },
    "executionInfo": {
     "elapsed": 1856,
     "status": "ok",
     "timestamp": 1608189220537,
     "user": {
      "displayName": "Kost Bezon",
      "photoUrl": "",
      "userId": "03646334733882107726"
     },
     "user_tz": -180
    },
    "id": "TAqxuBbJfRN5",
    "outputId": "6d055f78-7aa9-4302-daed-f8183ce430da"
   },
   "outputs": [
    {
     "data": {
      "text/plain": [
       "<AxesSubplot:>"
      ]
     },
     "execution_count": 14,
     "metadata": {},
     "output_type": "execute_result"
    },
    {
     "data": {
      "image/png": "[encoded data removed]",
      "text/plain": [
       "<Figure size 720x504 with 1 Axes>"
      ]
     },
     "metadata": {
      "needs_background": "light"
     },
     "output_type": "display_data"
    }
   ],
   "source": [
    "plt.rcParams['figure.figsize'] = (10,7)\n",
    "data['Cuis_Rank'].hist(bins=100)"
   ]
  },
  {
   "cell_type": "code",
   "execution_count": 15,
   "metadata": {
    "colab": {
     "base_uri": "https://localhost:8080/",
     "height": 197
    },
    "executionInfo": {
     "elapsed": 3929,
     "status": "ok",
     "timestamp": 1607927854669,
     "user": {
      "displayName": "Kost Bezon",
      "photoUrl": "",
      "userId": "03646334733882107726"
     },
     "user_tz": -180
    },
    "id": "lsuutq9-9eyG",
    "outputId": "366a0094-d105-499d-ffc5-dc0796bd83ce"
   },
   "outputs": [
    {
     "data": {
      "text/plain": [
       "<AxesSubplot:>"
      ]
     },
     "execution_count": 15,
     "metadata": {},
     "output_type": "execute_result"
    },
    {
     "data": {
      "image/png": "[encoded data removed]",
      "text/plain": [
       "<Figure size 216x216 with 1 Axes>"
      ]
     },
     "metadata": {
      "needs_background": "light"
     },
     "output_type": "display_data"
    }
   ],
   "source": [
    "plt.rcParams['figure.figsize'] = (3,3)\n",
    "data['Cuisine Style is NAN'].hist(bins=2)"
   ]
  },
  {
   "cell_type": "markdown",
   "metadata": {
    "id": "-_r9MFm2xpOc"
   },
   "source": [
    "### 3. 'Price Range'"
   ]
  },
  {
   "cell_type": "code",
   "execution_count": 9,
   "metadata": {
    "colab": {
     "base_uri": "https://localhost:8080/",
     "height": 581
    },
    "executionInfo": {
     "elapsed": 6710,
     "status": "ok",
     "timestamp": 1608200376370,
     "user": {
      "displayName": "Kost Bezon",
      "photoUrl": "",
      "userId": "03646334733882107726"
     },
     "user_tz": -180
    },
    "id": "VZ0tS4XFxpOe",
    "outputId": "ee998add-d2bc-438d-b976-2afa3f7c8a75",
    "scrolled": false
   },
   "outputs": [
    {
     "data": {
      "text/html": [
       "<div>\n",
       "<style scoped>\n",
       "    .dataframe tbody tr th:only-of-type {\n",
       "        vertical-align: middle;\n",
       "    }\n",
       "\n",
       "    .dataframe tbody tr th {\n",
       "        vertical-align: top;\n",
       "    }\n",
       "\n",
       "    .dataframe thead th {\n",
       "        text-align: right;\n",
       "    }\n",
       "</style>\n",
       "<table border=\"1\" class=\"dataframe\">\n",
       "  <thead>\n",
       "    <tr style=\"text-align: right;\">\n",
       "      <th></th>\n",
       "      <th>Restaurant_id</th>\n",
       "      <th>City</th>\n",
       "      <th>Cuisine Style</th>\n",
       "      <th>Ranking</th>\n",
       "      <th>Price Range</th>\n",
       "      <th>Number of Reviews</th>\n",
       "      <th>Reviews</th>\n",
       "      <th>URL_TA</th>\n",
       "      <th>ID_TA</th>\n",
       "      <th>sample</th>\n",
       "      <th>Rating</th>\n",
       "      <th>city_norm</th>\n",
       "      <th>City_Rank</th>\n",
       "      <th>cuis_norm</th>\n",
       "      <th>cuis_count</th>\n",
       "      <th>Cuisine Style is NAN</th>\n",
       "      <th>Cuis_Rank</th>\n",
       "      <th>Price Range is NAN</th>\n",
       "    </tr>\n",
       "  </thead>\n",
       "  <tbody>\n",
       "    <tr>\n",
       "      <th>0</th>\n",
       "      <td>id_0</td>\n",
       "      <td>Paris</td>\n",
       "      <td>['Bar', 'Pub']</td>\n",
       "      <td>12963.0</td>\n",
       "      <td>2.0</td>\n",
       "      <td>4.0</td>\n",
       "      <td>[[], []]</td>\n",
       "      <td>/Restaurant_Review-g187147-d10746918-Reviews-L...</td>\n",
       "      <td>d10746918</td>\n",
       "      <td>0</td>\n",
       "      <td>0.0</td>\n",
       "      <td>-0.004292</td>\n",
       "      <td>2.122299</td>\n",
       "      <td>-0.003014</td>\n",
       "      <td>2.0</td>\n",
       "      <td>0</td>\n",
       "      <td>6481.500000</td>\n",
       "      <td>0</td>\n",
       "    </tr>\n",
       "    <tr>\n",
       "      <th>1</th>\n",
       "      <td>id_1</td>\n",
       "      <td>Helsinki</td>\n",
       "      <td>['European', 'Scandinavian', 'Gluten Free Opti...</td>\n",
       "      <td>106.0</td>\n",
       "      <td>2.0</td>\n",
       "      <td>97.0</td>\n",
       "      <td>[['Very good reviews!', 'Fine dining in Hakani...</td>\n",
       "      <td>/Restaurant_Review-g189934-d6674944-Reviews-Ra...</td>\n",
       "      <td>d6674944</td>\n",
       "      <td>0</td>\n",
       "      <td>0.0</td>\n",
       "      <td>0.010202</td>\n",
       "      <td>0.223158</td>\n",
       "      <td>0.002108</td>\n",
       "      <td>5.0</td>\n",
       "      <td>0</td>\n",
       "      <td>21.200000</td>\n",
       "      <td>0</td>\n",
       "    </tr>\n",
       "    <tr>\n",
       "      <th>2</th>\n",
       "      <td>id_2</td>\n",
       "      <td>Edinburgh</td>\n",
       "      <td>['Vegetarian Friendly']</td>\n",
       "      <td>810.0</td>\n",
       "      <td>2.0</td>\n",
       "      <td>28.0</td>\n",
       "      <td>[['Better than the Links', 'Ivy Black'], ['12/...</td>\n",
       "      <td>/Restaurant_Review-g186525-d13129638-Reviews-B...</td>\n",
       "      <td>d13129638</td>\n",
       "      <td>0</td>\n",
       "      <td>0.0</td>\n",
       "      <td>0.006097</td>\n",
       "      <td>1.087248</td>\n",
       "      <td>-0.005033</td>\n",
       "      <td>1.0</td>\n",
       "      <td>0</td>\n",
       "      <td>810.000000</td>\n",
       "      <td>0</td>\n",
       "    </tr>\n",
       "    <tr>\n",
       "      <th>3</th>\n",
       "      <td>id_3</td>\n",
       "      <td>London</td>\n",
       "      <td>['Italian', 'Mediterranean', 'European', 'Vege...</td>\n",
       "      <td>1669.0</td>\n",
       "      <td>3.0</td>\n",
       "      <td>202.0</td>\n",
       "      <td>[['Most exquisite', 'Delicious and authentic']...</td>\n",
       "      <td>/Restaurant_Review-g186338-d680417-Reviews-Qui...</td>\n",
       "      <td>d680417</td>\n",
       "      <td>0</td>\n",
       "      <td>0.0</td>\n",
       "      <td>-0.004700</td>\n",
       "      <td>0.232031</td>\n",
       "      <td>-0.000846</td>\n",
       "      <td>5.0</td>\n",
       "      <td>0</td>\n",
       "      <td>333.800000</td>\n",
       "      <td>0</td>\n",
       "    </tr>\n",
       "    <tr>\n",
       "      <th>4</th>\n",
       "      <td>id_4</td>\n",
       "      <td>Bratislava</td>\n",
       "      <td>['Italian', 'Mediterranean', 'European', 'Seaf...</td>\n",
       "      <td>37.0</td>\n",
       "      <td>3.0</td>\n",
       "      <td>162.0</td>\n",
       "      <td>[['Always the best in bratislava', 'Very good ...</td>\n",
       "      <td>/Restaurant_Review-g274924-d1112354-Reviews-Ma...</td>\n",
       "      <td>d1112354</td>\n",
       "      <td>0</td>\n",
       "      <td>0.0</td>\n",
       "      <td>0.012611</td>\n",
       "      <td>0.097368</td>\n",
       "      <td>0.001082</td>\n",
       "      <td>6.0</td>\n",
       "      <td>0</td>\n",
       "      <td>6.166667</td>\n",
       "      <td>0</td>\n",
       "    </tr>\n",
       "  </tbody>\n",
       "</table>\n",
       "</div>"
      ],
      "text/plain": [
       "  Restaurant_id        City  \\\n",
       "0          id_0       Paris   \n",
       "1          id_1    Helsinki   \n",
       "2          id_2   Edinburgh   \n",
       "3          id_3      London   \n",
       "4          id_4  Bratislava   \n",
       "\n",
       "                                       Cuisine Style  Ranking  Price Range  \\\n",
       "0                                     ['Bar', 'Pub']  12963.0          2.0   \n",
       "1  ['European', 'Scandinavian', 'Gluten Free Opti...    106.0          2.0   \n",
       "2                            ['Vegetarian Friendly']    810.0          2.0   \n",
       "3  ['Italian', 'Mediterranean', 'European', 'Vege...   1669.0          3.0   \n",
       "4  ['Italian', 'Mediterranean', 'European', 'Seaf...     37.0          3.0   \n",
       "\n",
       "   Number of Reviews                                            Reviews  \\\n",
       "0                4.0                                           [[], []]   \n",
       "1               97.0  [['Very good reviews!', 'Fine dining in Hakani...   \n",
       "2               28.0  [['Better than the Links', 'Ivy Black'], ['12/...   \n",
       "3              202.0  [['Most exquisite', 'Delicious and authentic']...   \n",
       "4              162.0  [['Always the best in bratislava', 'Very good ...   \n",
       "\n",
       "                                              URL_TA      ID_TA  sample  \\\n",
       "0  /Restaurant_Review-g187147-d10746918-Reviews-L...  d10746918       0   \n",
       "1  /Restaurant_Review-g189934-d6674944-Reviews-Ra...   d6674944       0   \n",
       "2  /Restaurant_Review-g186525-d13129638-Reviews-B...  d13129638       0   \n",
       "3  /Restaurant_Review-g186338-d680417-Reviews-Qui...    d680417       0   \n",
       "4  /Restaurant_Review-g274924-d1112354-Reviews-Ma...   d1112354       0   \n",
       "\n",
       "   Rating  city_norm  City_Rank  cuis_norm  cuis_count  Cuisine Style is NAN  \\\n",
       "0     0.0  -0.004292   2.122299  -0.003014         2.0                     0   \n",
       "1     0.0   0.010202   0.223158   0.002108         5.0                     0   \n",
       "2     0.0   0.006097   1.087248  -0.005033         1.0                     0   \n",
       "3     0.0  -0.004700   0.232031  -0.000846         5.0                     0   \n",
       "4     0.0   0.012611   0.097368   0.001082         6.0                     0   \n",
       "\n",
       "     Cuis_Rank  Price Range is NAN  \n",
       "0  6481.500000                   0  \n",
       "1    21.200000                   0  \n",
       "2   810.000000                   0  \n",
       "3   333.800000                   0  \n",
       "4     6.166667                   0  "
      ]
     },
     "execution_count": 9,
     "metadata": {},
     "output_type": "execute_result"
    }
   ],
   "source": [
    "# create dictionary and fill empty values:\n",
    " \n",
    "price_dict = {'$':1,'$$ - $$$':2,'$$$$':3}\n",
    "data['Price Range'] = data['Price Range'].replace(to_replace=price_dict)\n",
    " \n",
    "# create feature of nan\n",
    "data['Price Range is NAN'] = pd.isna(data['Price Range']).astype('uint8')\n",
    " \n",
    "data = fill_na('Price Range') # filling empty\n",
    "data.head()"
   ]
  },
  {
   "cell_type": "code",
   "execution_count": null,
   "metadata": {
    "colab": {
     "base_uri": "https://localhost:8080/",
     "height": 236
    },
    "executionInfo": {
     "elapsed": 2112,
     "status": "ok",
     "timestamp": 1608103324034,
     "user": {
      "displayName": "Kost Bezon",
      "photoUrl": "",
      "userId": "03646334733882107726"
     },
     "user_tz": -180
    },
    "id": "NROajMTfxpOg",
    "outputId": "816a4a09-ee2c-4771-f689-4343b35d18b2"
   },
   "outputs": [
    {
     "data": {
      "text/plain": [
       "<matplotlib.axes._subplots.AxesSubplot at 0x7f480844e6a0>"
      ]
     },
     "execution_count": 13,
     "metadata": {
      "tags": []
     },
     "output_type": "execute_result"
    },
    {
     "data": {
      "image/png": "[encoded data removed]",
      "text/plain": [
       "<Figure size 720x504 with 1 Axes>"
      ]
     },
     "metadata": {
      "tags": []
     },
     "output_type": "display_data"
    }
   ],
   "source": [
    "plt.rcParams['figure.figsize'] = (10,7)\n",
    "data['Price Range'].hist(bins=10)"
   ]
  },
  {
   "cell_type": "code",
   "execution_count": 17,
   "metadata": {
    "colab": {
     "base_uri": "https://localhost:8080/",
     "height": 194
    },
    "executionInfo": {
     "elapsed": 2286,
     "status": "ok",
     "timestamp": 1607929019429,
     "user": {
      "displayName": "Kost Bezon",
      "photoUrl": "",
      "userId": "03646334733882107726"
     },
     "user_tz": -180
    },
    "id": "v6vyQCayAEF3",
    "outputId": "4993135c-d784-4222-f83c-e0d0111f190f"
   },
   "outputs": [
    {
     "data": {
      "text/plain": [
       "<AxesSubplot:>"
      ]
     },
     "execution_count": 17,
     "metadata": {},
     "output_type": "execute_result"
    },
    {
     "data": {
      "image/png": "[encoded data removed]",
      "text/plain": [
       "<Figure size 216x216 with 1 Axes>"
      ]
     },
     "metadata": {
      "needs_background": "light"
     },
     "output_type": "display_data"
    }
   ],
   "source": [
    "plt.rcParams['figure.figsize'] = (3,3)\n",
    "data['Price Range is NAN'].hist(bins=2)"
   ]
  },
  {
   "cell_type": "markdown",
   "metadata": {
    "id": "5sXWUlvRxpOj"
   },
   "source": [
    "### 4. 'Number of Reviews'"
   ]
  },
  {
   "cell_type": "code",
   "execution_count": 10,
   "metadata": {
    "colab": {
     "base_uri": "https://localhost:8080/",
     "height": 581
    },
    "executionInfo": {
     "elapsed": 2160,
     "status": "ok",
     "timestamp": 1608200395018,
     "user": {
      "displayName": "Kost Bezon",
      "photoUrl": "",
      "userId": "03646334733882107726"
     },
     "user_tz": -180
    },
    "id": "d-eZmwgpwHLX",
    "outputId": "b2a5147d-c37c-4127-a47b-c8698f4b526d",
    "scrolled": false
   },
   "outputs": [
    {
     "data": {
      "text/html": [
       "<div>\n",
       "<style scoped>\n",
       "    .dataframe tbody tr th:only-of-type {\n",
       "        vertical-align: middle;\n",
       "    }\n",
       "\n",
       "    .dataframe tbody tr th {\n",
       "        vertical-align: top;\n",
       "    }\n",
       "\n",
       "    .dataframe thead th {\n",
       "        text-align: right;\n",
       "    }\n",
       "</style>\n",
       "<table border=\"1\" class=\"dataframe\">\n",
       "  <thead>\n",
       "    <tr style=\"text-align: right;\">\n",
       "      <th></th>\n",
       "      <th>Restaurant_id</th>\n",
       "      <th>City</th>\n",
       "      <th>Cuisine Style</th>\n",
       "      <th>Ranking</th>\n",
       "      <th>Price Range</th>\n",
       "      <th>Number of Reviews</th>\n",
       "      <th>Reviews</th>\n",
       "      <th>URL_TA</th>\n",
       "      <th>ID_TA</th>\n",
       "      <th>sample</th>\n",
       "      <th>Rating</th>\n",
       "      <th>city_norm</th>\n",
       "      <th>City_Rank</th>\n",
       "      <th>cuis_norm</th>\n",
       "      <th>cuis_count</th>\n",
       "      <th>Cuisine Style is NAN</th>\n",
       "      <th>Cuis_Rank</th>\n",
       "      <th>Price Range is NAN</th>\n",
       "      <th>Number of Reviews is NAN</th>\n",
       "      <th>Reviews_number_Rank</th>\n",
       "    </tr>\n",
       "  </thead>\n",
       "  <tbody>\n",
       "    <tr>\n",
       "      <th>0</th>\n",
       "      <td>id_0</td>\n",
       "      <td>Paris</td>\n",
       "      <td>['Bar', 'Pub']</td>\n",
       "      <td>12963.0</td>\n",
       "      <td>2.0</td>\n",
       "      <td>4.0</td>\n",
       "      <td>[[], []]</td>\n",
       "      <td>/Restaurant_Review-g187147-d10746918-Reviews-L...</td>\n",
       "      <td>d10746918</td>\n",
       "      <td>0</td>\n",
       "      <td>0.0</td>\n",
       "      <td>-0.004292</td>\n",
       "      <td>2.122299</td>\n",
       "      <td>-0.003014</td>\n",
       "      <td>2.0</td>\n",
       "      <td>0</td>\n",
       "      <td>6481.500000</td>\n",
       "      <td>0</td>\n",
       "      <td>0</td>\n",
       "      <td>3240.750000</td>\n",
       "    </tr>\n",
       "    <tr>\n",
       "      <th>1</th>\n",
       "      <td>id_1</td>\n",
       "      <td>Helsinki</td>\n",
       "      <td>['European', 'Scandinavian', 'Gluten Free Opti...</td>\n",
       "      <td>106.0</td>\n",
       "      <td>2.0</td>\n",
       "      <td>97.0</td>\n",
       "      <td>[['Very good reviews!', 'Fine dining in Hakani...</td>\n",
       "      <td>/Restaurant_Review-g189934-d6674944-Reviews-Ra...</td>\n",
       "      <td>d6674944</td>\n",
       "      <td>0</td>\n",
       "      <td>0.0</td>\n",
       "      <td>0.010202</td>\n",
       "      <td>0.223158</td>\n",
       "      <td>0.002108</td>\n",
       "      <td>5.0</td>\n",
       "      <td>0</td>\n",
       "      <td>21.200000</td>\n",
       "      <td>0</td>\n",
       "      <td>0</td>\n",
       "      <td>1.092784</td>\n",
       "    </tr>\n",
       "    <tr>\n",
       "      <th>2</th>\n",
       "      <td>id_2</td>\n",
       "      <td>Edinburgh</td>\n",
       "      <td>['Vegetarian Friendly']</td>\n",
       "      <td>810.0</td>\n",
       "      <td>2.0</td>\n",
       "      <td>28.0</td>\n",
       "      <td>[['Better than the Links', 'Ivy Black'], ['12/...</td>\n",
       "      <td>/Restaurant_Review-g186525-d13129638-Reviews-B...</td>\n",
       "      <td>d13129638</td>\n",
       "      <td>0</td>\n",
       "      <td>0.0</td>\n",
       "      <td>0.006097</td>\n",
       "      <td>1.087248</td>\n",
       "      <td>-0.005033</td>\n",
       "      <td>1.0</td>\n",
       "      <td>0</td>\n",
       "      <td>810.000000</td>\n",
       "      <td>0</td>\n",
       "      <td>0</td>\n",
       "      <td>28.928571</td>\n",
       "    </tr>\n",
       "    <tr>\n",
       "      <th>3</th>\n",
       "      <td>id_3</td>\n",
       "      <td>London</td>\n",
       "      <td>['Italian', 'Mediterranean', 'European', 'Vege...</td>\n",
       "      <td>1669.0</td>\n",
       "      <td>3.0</td>\n",
       "      <td>202.0</td>\n",
       "      <td>[['Most exquisite', 'Delicious and authentic']...</td>\n",
       "      <td>/Restaurant_Review-g186338-d680417-Reviews-Qui...</td>\n",
       "      <td>d680417</td>\n",
       "      <td>0</td>\n",
       "      <td>0.0</td>\n",
       "      <td>-0.004700</td>\n",
       "      <td>0.232031</td>\n",
       "      <td>-0.000846</td>\n",
       "      <td>5.0</td>\n",
       "      <td>0</td>\n",
       "      <td>333.800000</td>\n",
       "      <td>0</td>\n",
       "      <td>0</td>\n",
       "      <td>8.262376</td>\n",
       "    </tr>\n",
       "    <tr>\n",
       "      <th>4</th>\n",
       "      <td>id_4</td>\n",
       "      <td>Bratislava</td>\n",
       "      <td>['Italian', 'Mediterranean', 'European', 'Seaf...</td>\n",
       "      <td>37.0</td>\n",
       "      <td>3.0</td>\n",
       "      <td>162.0</td>\n",
       "      <td>[['Always the best in bratislava', 'Very good ...</td>\n",
       "      <td>/Restaurant_Review-g274924-d1112354-Reviews-Ma...</td>\n",
       "      <td>d1112354</td>\n",
       "      <td>0</td>\n",
       "      <td>0.0</td>\n",
       "      <td>0.012611</td>\n",
       "      <td>0.097368</td>\n",
       "      <td>0.001082</td>\n",
       "      <td>6.0</td>\n",
       "      <td>0</td>\n",
       "      <td>6.166667</td>\n",
       "      <td>0</td>\n",
       "      <td>0</td>\n",
       "      <td>0.228395</td>\n",
       "    </tr>\n",
       "  </tbody>\n",
       "</table>\n",
       "</div>"
      ],
      "text/plain": [
       "  Restaurant_id        City  \\\n",
       "0          id_0       Paris   \n",
       "1          id_1    Helsinki   \n",
       "2          id_2   Edinburgh   \n",
       "3          id_3      London   \n",
       "4          id_4  Bratislava   \n",
       "\n",
       "                                       Cuisine Style  Ranking  Price Range  \\\n",
       "0                                     ['Bar', 'Pub']  12963.0          2.0   \n",
       "1  ['European', 'Scandinavian', 'Gluten Free Opti...    106.0          2.0   \n",
       "2                            ['Vegetarian Friendly']    810.0          2.0   \n",
       "3  ['Italian', 'Mediterranean', 'European', 'Vege...   1669.0          3.0   \n",
       "4  ['Italian', 'Mediterranean', 'European', 'Seaf...     37.0          3.0   \n",
       "\n",
       "   Number of Reviews                                            Reviews  \\\n",
       "0                4.0                                           [[], []]   \n",
       "1               97.0  [['Very good reviews!', 'Fine dining in Hakani...   \n",
       "2               28.0  [['Better than the Links', 'Ivy Black'], ['12/...   \n",
       "3              202.0  [['Most exquisite', 'Delicious and authentic']...   \n",
       "4              162.0  [['Always the best in bratislava', 'Very good ...   \n",
       "\n",
       "                                              URL_TA      ID_TA  sample  \\\n",
       "0  /Restaurant_Review-g187147-d10746918-Reviews-L...  d10746918       0   \n",
       "1  /Restaurant_Review-g189934-d6674944-Reviews-Ra...   d6674944       0   \n",
       "2  /Restaurant_Review-g186525-d13129638-Reviews-B...  d13129638       0   \n",
       "3  /Restaurant_Review-g186338-d680417-Reviews-Qui...    d680417       0   \n",
       "4  /Restaurant_Review-g274924-d1112354-Reviews-Ma...   d1112354       0   \n",
       "\n",
       "   Rating  city_norm  City_Rank  cuis_norm  cuis_count  Cuisine Style is NAN  \\\n",
       "0     0.0  -0.004292   2.122299  -0.003014         2.0                     0   \n",
       "1     0.0   0.010202   0.223158   0.002108         5.0                     0   \n",
       "2     0.0   0.006097   1.087248  -0.005033         1.0                     0   \n",
       "3     0.0  -0.004700   0.232031  -0.000846         5.0                     0   \n",
       "4     0.0   0.012611   0.097368   0.001082         6.0                     0   \n",
       "\n",
       "     Cuis_Rank  Price Range is NAN  Number of Reviews is NAN  \\\n",
       "0  6481.500000                   0                         0   \n",
       "1    21.200000                   0                         0   \n",
       "2   810.000000                   0                         0   \n",
       "3   333.800000                   0                         0   \n",
       "4     6.166667                   0                         0   \n",
       "\n",
       "   Reviews_number_Rank  \n",
       "0          3240.750000  \n",
       "1             1.092784  \n",
       "2            28.928571  \n",
       "3             8.262376  \n",
       "4             0.228395  "
      ]
     },
     "execution_count": 10,
     "metadata": {},
     "output_type": "execute_result"
    }
   ],
   "source": [
    "# create nan feature and filling empties\n",
    " \n",
    "data['Number of Reviews is NAN'] = pd.isna(data['Number of Reviews']).astype('uint8')\n",
    "data = fill_na('Number of Reviews') \n",
    "\n",
    "# create feature devision Ranking on Number of Reviews\n",
    "data['Reviews_number_Rank'] = data['Ranking']/data['Number of Reviews']\n",
    " \n",
    "data.head()"
   ]
  },
  {
   "cell_type": "code",
   "execution_count": 19,
   "metadata": {
    "colab": {
     "base_uri": "https://localhost:8080/",
     "height": 234
    },
    "executionInfo": {
     "elapsed": 2321,
     "status": "ok",
     "timestamp": 1608103333575,
     "user": {
      "displayName": "Kost Bezon",
      "photoUrl": "",
      "userId": "03646334733882107726"
     },
     "user_tz": -180
    },
    "id": "hKOJ_YdNxpOm",
    "outputId": "5de47d5f-5962-4a63-cb99-8e5fd772ed12"
   },
   "outputs": [
    {
     "data": {
      "text/plain": [
       "<AxesSubplot:>"
      ]
     },
     "execution_count": 19,
     "metadata": {},
     "output_type": "execute_result"
    },
    {
     "data": {
      "image/png": "[encoded data removed]",
      "text/plain": [
       "<Figure size 720x504 with 1 Axes>"
      ]
     },
     "metadata": {
      "needs_background": "light"
     },
     "output_type": "display_data"
    }
   ],
   "source": [
    "plt.rcParams['figure.figsize'] = (10,7)\n",
    "data['Number of Reviews'].hist(bins=50)"
   ]
  },
  {
   "cell_type": "code",
   "execution_count": 20,
   "metadata": {
    "colab": {
     "base_uri": "https://localhost:8080/",
     "height": 236
    },
    "executionInfo": {
     "elapsed": 2759,
     "status": "ok",
     "timestamp": 1608190366882,
     "user": {
      "displayName": "Kost Bezon",
      "photoUrl": "",
      "userId": "03646334733882107726"
     },
     "user_tz": -180
    },
    "id": "w0tGqeVcmyAb",
    "outputId": "4efef5f8-0fa6-4e32-d146-1bcca7c9ecf3"
   },
   "outputs": [
    {
     "data": {
      "text/plain": [
       "<AxesSubplot:>"
      ]
     },
     "execution_count": 20,
     "metadata": {},
     "output_type": "execute_result"
    },
    {
     "data": {
      "image/png": "[encoded data removed]",
      "text/plain": [
       "<Figure size 720x504 with 1 Axes>"
      ]
     },
     "metadata": {
      "needs_background": "light"
     },
     "output_type": "display_data"
    }
   ],
   "source": [
    "plt.rcParams['figure.figsize'] = (10,7)\n",
    "data['Reviews_number_Rank'].hist(bins=50)"
   ]
  },
  {
   "cell_type": "code",
   "execution_count": 21,
   "metadata": {
    "colab": {
     "base_uri": "https://localhost:8080/",
     "height": 194
    },
    "executionInfo": {
     "elapsed": 1697,
     "status": "ok",
     "timestamp": 1607929502759,
     "user": {
      "displayName": "Kost Bezon",
      "photoUrl": "",
      "userId": "03646334733882107726"
     },
     "user_tz": -180
    },
    "id": "ZHdJRE1TD-7Y",
    "outputId": "ef9ef6b2-02e7-4250-944a-5b41ed8396c8"
   },
   "outputs": [
    {
     "data": {
      "text/plain": [
       "<AxesSubplot:>"
      ]
     },
     "execution_count": 21,
     "metadata": {},
     "output_type": "execute_result"
    },
    {
     "data": {
      "image/png": "[encoded data removed]",
      "text/plain": [
       "<Figure size 216x216 with 1 Axes>"
      ]
     },
     "metadata": {
      "needs_background": "light"
     },
     "output_type": "display_data"
    }
   ],
   "source": [
    "plt.rcParams['figure.figsize'] = (3,3)\n",
    "data['Number of Reviews is NAN'].hist(bins=2)"
   ]
  },
  {
   "cell_type": "markdown",
   "metadata": {
    "id": "saHPej54xpOo"
   },
   "source": [
    "### 5. 'Reviews'"
   ]
  },
  {
   "cell_type": "code",
   "execution_count": 11,
   "metadata": {
    "colab": {
     "base_uri": "https://localhost:8080/",
     "height": 581
    },
    "executionInfo": {
     "elapsed": 33620,
     "status": "ok",
     "timestamp": 1608200466333,
     "user": {
      "displayName": "Kost Bezon",
      "photoUrl": "",
      "userId": "03646334733882107726"
     },
     "user_tz": -180
    },
    "id": "UifWB9FyvLTD",
    "outputId": "b16470cf-0258-48d7-dbf3-6aff6b3efb75",
    "scrolled": false
   },
   "outputs": [
    {
     "data": {
      "text/html": [
       "<div>\n",
       "<style scoped>\n",
       "    .dataframe tbody tr th:only-of-type {\n",
       "        vertical-align: middle;\n",
       "    }\n",
       "\n",
       "    .dataframe tbody tr th {\n",
       "        vertical-align: top;\n",
       "    }\n",
       "\n",
       "    .dataframe thead th {\n",
       "        text-align: right;\n",
       "    }\n",
       "</style>\n",
       "<table border=\"1\" class=\"dataframe\">\n",
       "  <thead>\n",
       "    <tr style=\"text-align: right;\">\n",
       "      <th></th>\n",
       "      <th>Restaurant_id</th>\n",
       "      <th>City</th>\n",
       "      <th>Cuisine Style</th>\n",
       "      <th>Ranking</th>\n",
       "      <th>Price Range</th>\n",
       "      <th>Number of Reviews</th>\n",
       "      <th>Reviews</th>\n",
       "      <th>URL_TA</th>\n",
       "      <th>ID_TA</th>\n",
       "      <th>sample</th>\n",
       "      <th>...</th>\n",
       "      <th>cuis_norm</th>\n",
       "      <th>cuis_count</th>\n",
       "      <th>Cuisine Style is NAN</th>\n",
       "      <th>Cuis_Rank</th>\n",
       "      <th>Price Range is NAN</th>\n",
       "      <th>Number of Reviews is NAN</th>\n",
       "      <th>Reviews_number_Rank</th>\n",
       "      <th>time_change</th>\n",
       "      <th>len_reviews</th>\n",
       "      <th>Reviews is NAN</th>\n",
       "    </tr>\n",
       "  </thead>\n",
       "  <tbody>\n",
       "    <tr>\n",
       "      <th>0</th>\n",
       "      <td>id_0</td>\n",
       "      <td>Paris</td>\n",
       "      <td>['Bar', 'Pub']</td>\n",
       "      <td>12963.0</td>\n",
       "      <td>2.0</td>\n",
       "      <td>4.0</td>\n",
       "      <td>[[], []]</td>\n",
       "      <td>/Restaurant_Review-g187147-d10746918-Reviews-L...</td>\n",
       "      <td>d10746918</td>\n",
       "      <td>0</td>\n",
       "      <td>...</td>\n",
       "      <td>-0.003014</td>\n",
       "      <td>2.0</td>\n",
       "      <td>0</td>\n",
       "      <td>6481.500000</td>\n",
       "      <td>0</td>\n",
       "      <td>0</td>\n",
       "      <td>3240.750000</td>\n",
       "      <td>172.991084</td>\n",
       "      <td>66.201194</td>\n",
       "      <td>1</td>\n",
       "    </tr>\n",
       "    <tr>\n",
       "      <th>1</th>\n",
       "      <td>id_1</td>\n",
       "      <td>Helsinki</td>\n",
       "      <td>['European', 'Scandinavian', 'Gluten Free Opti...</td>\n",
       "      <td>106.0</td>\n",
       "      <td>2.0</td>\n",
       "      <td>97.0</td>\n",
       "      <td>[['Very good reviews!', 'Fine dining in Hakani...</td>\n",
       "      <td>/Restaurant_Review-g189934-d6674944-Reviews-Ra...</td>\n",
       "      <td>d6674944</td>\n",
       "      <td>0</td>\n",
       "      <td>...</td>\n",
       "      <td>0.002108</td>\n",
       "      <td>5.0</td>\n",
       "      <td>0</td>\n",
       "      <td>21.200000</td>\n",
       "      <td>0</td>\n",
       "      <td>0</td>\n",
       "      <td>1.092784</td>\n",
       "      <td>37.000000</td>\n",
       "      <td>64.000000</td>\n",
       "      <td>0</td>\n",
       "    </tr>\n",
       "    <tr>\n",
       "      <th>2</th>\n",
       "      <td>id_2</td>\n",
       "      <td>Edinburgh</td>\n",
       "      <td>['Vegetarian Friendly']</td>\n",
       "      <td>810.0</td>\n",
       "      <td>2.0</td>\n",
       "      <td>28.0</td>\n",
       "      <td>[['Better than the Links', 'Ivy Black'], ['12/...</td>\n",
       "      <td>/Restaurant_Review-g186525-d13129638-Reviews-B...</td>\n",
       "      <td>d13129638</td>\n",
       "      <td>0</td>\n",
       "      <td>...</td>\n",
       "      <td>-0.005033</td>\n",
       "      <td>1.0</td>\n",
       "      <td>0</td>\n",
       "      <td>810.000000</td>\n",
       "      <td>0</td>\n",
       "      <td>0</td>\n",
       "      <td>28.928571</td>\n",
       "      <td>22.000000</td>\n",
       "      <td>53.000000</td>\n",
       "      <td>0</td>\n",
       "    </tr>\n",
       "    <tr>\n",
       "      <th>3</th>\n",
       "      <td>id_3</td>\n",
       "      <td>London</td>\n",
       "      <td>['Italian', 'Mediterranean', 'European', 'Vege...</td>\n",
       "      <td>1669.0</td>\n",
       "      <td>3.0</td>\n",
       "      <td>202.0</td>\n",
       "      <td>[['Most exquisite', 'Delicious and authentic']...</td>\n",
       "      <td>/Restaurant_Review-g186338-d680417-Reviews-Qui...</td>\n",
       "      <td>d680417</td>\n",
       "      <td>0</td>\n",
       "      <td>...</td>\n",
       "      <td>-0.000846</td>\n",
       "      <td>5.0</td>\n",
       "      <td>0</td>\n",
       "      <td>333.800000</td>\n",
       "      <td>0</td>\n",
       "      <td>0</td>\n",
       "      <td>8.262376</td>\n",
       "      <td>14.000000</td>\n",
       "      <td>60.000000</td>\n",
       "      <td>0</td>\n",
       "    </tr>\n",
       "    <tr>\n",
       "      <th>4</th>\n",
       "      <td>id_4</td>\n",
       "      <td>Bratislava</td>\n",
       "      <td>['Italian', 'Mediterranean', 'European', 'Seaf...</td>\n",
       "      <td>37.0</td>\n",
       "      <td>3.0</td>\n",
       "      <td>162.0</td>\n",
       "      <td>[['Always the best in bratislava', 'Very good ...</td>\n",
       "      <td>/Restaurant_Review-g274924-d1112354-Reviews-Ma...</td>\n",
       "      <td>d1112354</td>\n",
       "      <td>0</td>\n",
       "      <td>...</td>\n",
       "      <td>0.001082</td>\n",
       "      <td>6.0</td>\n",
       "      <td>0</td>\n",
       "      <td>6.166667</td>\n",
       "      <td>0</td>\n",
       "      <td>0</td>\n",
       "      <td>0.228395</td>\n",
       "      <td>15.000000</td>\n",
       "      <td>72.000000</td>\n",
       "      <td>0</td>\n",
       "    </tr>\n",
       "  </tbody>\n",
       "</table>\n",
       "<p>5 rows × 23 columns</p>\n",
       "</div>"
      ],
      "text/plain": [
       "  Restaurant_id        City  \\\n",
       "0          id_0       Paris   \n",
       "1          id_1    Helsinki   \n",
       "2          id_2   Edinburgh   \n",
       "3          id_3      London   \n",
       "4          id_4  Bratislava   \n",
       "\n",
       "                                       Cuisine Style  Ranking  Price Range  \\\n",
       "0                                     ['Bar', 'Pub']  12963.0          2.0   \n",
       "1  ['European', 'Scandinavian', 'Gluten Free Opti...    106.0          2.0   \n",
       "2                            ['Vegetarian Friendly']    810.0          2.0   \n",
       "3  ['Italian', 'Mediterranean', 'European', 'Vege...   1669.0          3.0   \n",
       "4  ['Italian', 'Mediterranean', 'European', 'Seaf...     37.0          3.0   \n",
       "\n",
       "   Number of Reviews                                            Reviews  \\\n",
       "0                4.0                                           [[], []]   \n",
       "1               97.0  [['Very good reviews!', 'Fine dining in Hakani...   \n",
       "2               28.0  [['Better than the Links', 'Ivy Black'], ['12/...   \n",
       "3              202.0  [['Most exquisite', 'Delicious and authentic']...   \n",
       "4              162.0  [['Always the best in bratislava', 'Very good ...   \n",
       "\n",
       "                                              URL_TA      ID_TA  sample  ...  \\\n",
       "0  /Restaurant_Review-g187147-d10746918-Reviews-L...  d10746918       0  ...   \n",
       "1  /Restaurant_Review-g189934-d6674944-Reviews-Ra...   d6674944       0  ...   \n",
       "2  /Restaurant_Review-g186525-d13129638-Reviews-B...  d13129638       0  ...   \n",
       "3  /Restaurant_Review-g186338-d680417-Reviews-Qui...    d680417       0  ...   \n",
       "4  /Restaurant_Review-g274924-d1112354-Reviews-Ma...   d1112354       0  ...   \n",
       "\n",
       "   cuis_norm  cuis_count  Cuisine Style is NAN    Cuis_Rank  \\\n",
       "0  -0.003014         2.0                     0  6481.500000   \n",
       "1   0.002108         5.0                     0    21.200000   \n",
       "2  -0.005033         1.0                     0   810.000000   \n",
       "3  -0.000846         5.0                     0   333.800000   \n",
       "4   0.001082         6.0                     0     6.166667   \n",
       "\n",
       "   Price Range is NAN  Number of Reviews is NAN  Reviews_number_Rank  \\\n",
       "0                   0                         0          3240.750000   \n",
       "1                   0                         0             1.092784   \n",
       "2                   0                         0            28.928571   \n",
       "3                   0                         0             8.262376   \n",
       "4                   0                         0             0.228395   \n",
       "\n",
       "   time_change  len_reviews  Reviews is NAN  \n",
       "0   172.991084    66.201194               1  \n",
       "1    37.000000    64.000000               0  \n",
       "2    22.000000    53.000000               0  \n",
       "3    14.000000    60.000000               0  \n",
       "4    15.000000    72.000000               0  \n",
       "\n",
       "[5 rows x 23 columns]"
      ]
     },
     "execution_count": 11,
     "metadata": {},
     "output_type": "execute_result"
    }
   ],
   "source": [
    "# created new features: days count between reviews, length reviews, nan feature\n",
    " \n",
    "pattern_time = re.compile('\\d\\d\\/\\d\\d\\/\\d+') # patern for time\n",
    "pattern_text = re.compile('[A-Za-z ]+') # pattern for text\n",
    "time1 = []\n",
    "time2 = [] \n",
    "len_text = [] \n",
    " \n",
    "for i in data.index:\n",
    "  if str(data.Reviews[i]) == 'nan':\n",
    "    data.Reviews[i] = '[[], []]'\n",
    "  \n",
    "  t_values = pd.to_datetime(pattern_time.findall(data.Reviews[i])) # find time string and transform it in time\n",
    "    \n",
    "  # save string lenth:\n",
    "  if len(data.Reviews[i]) != 8:\n",
    "    len_text.append(len(str(pattern_text.findall(data.Reviews[i]))))\n",
    "  else: # if string lenth is eight than it empty\n",
    "    len_text.append(None) \n",
    "  \n",
    "  # save time:\n",
    "  if len(t_values) == 0:\n",
    "    time1.append(None)\n",
    "    time2.append(None) \n",
    "  elif len(t_values) == 1:\n",
    "    time1.append(t_values[0])\n",
    "    time2.append(None) \n",
    "  else:\n",
    "    time1.append(t_values[0])\n",
    "    time2.append(t_values[1]) \n",
    " \n",
    "time = pd.DataFrame({'time1':time1, 'time2':time2})  \n",
    "data['time_change'] = abs(time.time1-time.time2) # calculate difference\n",
    " \n",
    "# transform in integer type and filling empty for time:\n",
    "data['time_change'] = data['time_change'].apply(lambda x: int(x.days) if str(x.days) != 'nan' else None) \n",
    "data = fill_na('time_change')\n",
    " \n",
    "# saving length and filling empty for reviews:\n",
    "data['len_reviews'] = len_text\n",
    "data['Reviews is NAN'] = pd.isna(data['len_reviews']).astype('uint8') # nan feature\n",
    "data = fill_na('len_reviews')\n",
    " \n",
    "data.head()"
   ]
  },
  {
   "cell_type": "code",
   "execution_count": 23,
   "metadata": {
    "colab": {
     "base_uri": "https://localhost:8080/",
     "height": 302
    },
    "executionInfo": {
     "elapsed": 2066,
     "status": "ok",
     "timestamp": 1608013303610,
     "user": {
      "displayName": "Kost Bezon",
      "photoUrl": "",
      "userId": "03646334733882107726"
     },
     "user_tz": -180
    },
    "id": "WF_LfeArQjgZ",
    "outputId": "d78f38c2-0b06-4e53-c7b1-11af1a3adfa8"
   },
   "outputs": [
    {
     "data": {
      "text/plain": [
       "<AxesSubplot:>"
      ]
     },
     "execution_count": 23,
     "metadata": {},
     "output_type": "execute_result"
    },
    {
     "data": {
      "image/png": "[encoded data removed]",
      "text/plain": [
       "<Figure size 360x360 with 1 Axes>"
      ]
     },
     "metadata": {
      "needs_background": "light"
     },
     "output_type": "display_data"
    }
   ],
   "source": [
    "plt.rcParams['figure.figsize'] = (5,5)\n",
    "data['time_change'].hist(bins=20)"
   ]
  },
  {
   "cell_type": "code",
   "execution_count": 25,
   "metadata": {
    "colab": {
     "base_uri": "https://localhost:8080/",
     "height": 304
    },
    "executionInfo": {
     "elapsed": 1618,
     "status": "ok",
     "timestamp": 1608013322225,
     "user": {
      "displayName": "Kost Bezon",
      "photoUrl": "",
      "userId": "03646334733882107726"
     },
     "user_tz": -180
    },
    "id": "-kY0QPfqSmrZ",
    "outputId": "acf375dd-0255-4f81-da3e-697f939a9e51"
   },
   "outputs": [
    {
     "data": {
      "text/plain": [
       "<AxesSubplot:>"
      ]
     },
     "execution_count": 25,
     "metadata": {},
     "output_type": "execute_result"
    },
    {
     "data": {
      "image/png": "[encoded data removed]",
      "text/plain": [
       "<Figure size 360x360 with 1 Axes>"
      ]
     },
     "metadata": {
      "needs_background": "light"
     },
     "output_type": "display_data"
    }
   ],
   "source": [
    "plt.rcParams['figure.figsize'] = (5,5)\n",
    "data['len_reviews'].hist(bins=20)"
   ]
  },
  {
   "cell_type": "code",
   "execution_count": 24,
   "metadata": {
    "colab": {
     "base_uri": "https://localhost:8080/",
     "height": 213
    },
    "executionInfo": {
     "elapsed": 1688,
     "status": "ok",
     "timestamp": 1608013364331,
     "user": {
      "displayName": "Kost Bezon",
      "photoUrl": "",
      "userId": "03646334733882107726"
     },
     "user_tz": -180
    },
    "id": "IF6xnfvaS_Vz",
    "outputId": "8daef386-735f-4ff6-e60e-836e92ef9a5c"
   },
   "outputs": [
    {
     "data": {
      "text/plain": [
       "<AxesSubplot:>"
      ]
     },
     "execution_count": 24,
     "metadata": {},
     "output_type": "execute_result"
    },
    {
     "data": {
      "image/png": "[encoded data removed]",
      "text/plain": [
       "<Figure size 216x216 with 1 Axes>"
      ]
     },
     "metadata": {
      "needs_background": "light"
     },
     "output_type": "display_data"
    }
   ],
   "source": [
    "plt.rcParams['figure.figsize'] = (3,3)\n",
    "data['Reviews is NAN'].hist(bins=2)"
   ]
  },
  {
   "cell_type": "code",
   "execution_count": 12,
   "metadata": {
    "colab": {
     "base_uri": "https://localhost:8080/",
     "height": 581
    },
    "executionInfo": {
     "elapsed": 257264,
     "status": "ok",
     "timestamp": 1608200739936,
     "user": {
      "displayName": "Kost Bezon",
      "photoUrl": "",
      "userId": "03646334733882107726"
     },
     "user_tz": -180
    },
    "id": "qEhcioIMS-8_",
    "outputId": "3c1061ee-ff53-41a0-bac0-3eae42278fba"
   },
   "outputs": [
    {
     "data": {
      "text/html": [
       "<div>\n",
       "<style scoped>\n",
       "    .dataframe tbody tr th:only-of-type {\n",
       "        vertical-align: middle;\n",
       "    }\n",
       "\n",
       "    .dataframe tbody tr th {\n",
       "        vertical-align: top;\n",
       "    }\n",
       "\n",
       "    .dataframe thead th {\n",
       "        text-align: right;\n",
       "    }\n",
       "</style>\n",
       "<table border=\"1\" class=\"dataframe\">\n",
       "  <thead>\n",
       "    <tr style=\"text-align: right;\">\n",
       "      <th></th>\n",
       "      <th>Restaurant_id</th>\n",
       "      <th>City</th>\n",
       "      <th>Cuisine Style</th>\n",
       "      <th>Ranking</th>\n",
       "      <th>Price Range</th>\n",
       "      <th>Number of Reviews</th>\n",
       "      <th>Reviews</th>\n",
       "      <th>URL_TA</th>\n",
       "      <th>ID_TA</th>\n",
       "      <th>sample</th>\n",
       "      <th>...</th>\n",
       "      <th>cuis_count</th>\n",
       "      <th>Cuisine Style is NAN</th>\n",
       "      <th>Cuis_Rank</th>\n",
       "      <th>Price Range is NAN</th>\n",
       "      <th>Number of Reviews is NAN</th>\n",
       "      <th>Reviews_number_Rank</th>\n",
       "      <th>time_change</th>\n",
       "      <th>len_reviews</th>\n",
       "      <th>Reviews is NAN</th>\n",
       "      <th>rev_norm</th>\n",
       "    </tr>\n",
       "  </thead>\n",
       "  <tbody>\n",
       "    <tr>\n",
       "      <th>0</th>\n",
       "      <td>id_0</td>\n",
       "      <td>Paris</td>\n",
       "      <td>['Bar', 'Pub']</td>\n",
       "      <td>12963.0</td>\n",
       "      <td>2.0</td>\n",
       "      <td>4.0</td>\n",
       "      <td>[[], []]</td>\n",
       "      <td>/Restaurant_Review-g187147-d10746918-Reviews-L...</td>\n",
       "      <td>d10746918</td>\n",
       "      <td>0</td>\n",
       "      <td>...</td>\n",
       "      <td>2.0</td>\n",
       "      <td>0</td>\n",
       "      <td>6481.500000</td>\n",
       "      <td>0</td>\n",
       "      <td>0</td>\n",
       "      <td>3240.750000</td>\n",
       "      <td>172.991084</td>\n",
       "      <td>66.201194</td>\n",
       "      <td>1</td>\n",
       "      <td>0.000211</td>\n",
       "    </tr>\n",
       "    <tr>\n",
       "      <th>1</th>\n",
       "      <td>id_1</td>\n",
       "      <td>Helsinki</td>\n",
       "      <td>['European', 'Scandinavian', 'Gluten Free Opti...</td>\n",
       "      <td>106.0</td>\n",
       "      <td>2.0</td>\n",
       "      <td>97.0</td>\n",
       "      <td>[['Very good reviews!', 'Fine dining in Hakani...</td>\n",
       "      <td>/Restaurant_Review-g189934-d6674944-Reviews-Ra...</td>\n",
       "      <td>d6674944</td>\n",
       "      <td>0</td>\n",
       "      <td>...</td>\n",
       "      <td>5.0</td>\n",
       "      <td>0</td>\n",
       "      <td>21.200000</td>\n",
       "      <td>0</td>\n",
       "      <td>0</td>\n",
       "      <td>1.092784</td>\n",
       "      <td>37.000000</td>\n",
       "      <td>64.000000</td>\n",
       "      <td>0</td>\n",
       "      <td>0.001675</td>\n",
       "    </tr>\n",
       "    <tr>\n",
       "      <th>2</th>\n",
       "      <td>id_2</td>\n",
       "      <td>Edinburgh</td>\n",
       "      <td>['Vegetarian Friendly']</td>\n",
       "      <td>810.0</td>\n",
       "      <td>2.0</td>\n",
       "      <td>28.0</td>\n",
       "      <td>[['Better than the Links', 'Ivy Black'], ['12/...</td>\n",
       "      <td>/Restaurant_Review-g186525-d13129638-Reviews-B...</td>\n",
       "      <td>d13129638</td>\n",
       "      <td>0</td>\n",
       "      <td>...</td>\n",
       "      <td>1.0</td>\n",
       "      <td>0</td>\n",
       "      <td>810.000000</td>\n",
       "      <td>0</td>\n",
       "      <td>0</td>\n",
       "      <td>28.928571</td>\n",
       "      <td>22.000000</td>\n",
       "      <td>53.000000</td>\n",
       "      <td>0</td>\n",
       "      <td>0.014525</td>\n",
       "    </tr>\n",
       "    <tr>\n",
       "      <th>3</th>\n",
       "      <td>id_3</td>\n",
       "      <td>London</td>\n",
       "      <td>['Italian', 'Mediterranean', 'European', 'Vege...</td>\n",
       "      <td>1669.0</td>\n",
       "      <td>3.0</td>\n",
       "      <td>202.0</td>\n",
       "      <td>[['Most exquisite', 'Delicious and authentic']...</td>\n",
       "      <td>/Restaurant_Review-g186338-d680417-Reviews-Qui...</td>\n",
       "      <td>d680417</td>\n",
       "      <td>0</td>\n",
       "      <td>...</td>\n",
       "      <td>5.0</td>\n",
       "      <td>0</td>\n",
       "      <td>333.800000</td>\n",
       "      <td>0</td>\n",
       "      <td>0</td>\n",
       "      <td>8.262376</td>\n",
       "      <td>14.000000</td>\n",
       "      <td>60.000000</td>\n",
       "      <td>0</td>\n",
       "      <td>-0.004957</td>\n",
       "    </tr>\n",
       "    <tr>\n",
       "      <th>4</th>\n",
       "      <td>id_4</td>\n",
       "      <td>Bratislava</td>\n",
       "      <td>['Italian', 'Mediterranean', 'European', 'Seaf...</td>\n",
       "      <td>37.0</td>\n",
       "      <td>3.0</td>\n",
       "      <td>162.0</td>\n",
       "      <td>[['Always the best in bratislava', 'Very good ...</td>\n",
       "      <td>/Restaurant_Review-g274924-d1112354-Reviews-Ma...</td>\n",
       "      <td>d1112354</td>\n",
       "      <td>0</td>\n",
       "      <td>...</td>\n",
       "      <td>6.0</td>\n",
       "      <td>0</td>\n",
       "      <td>6.166667</td>\n",
       "      <td>0</td>\n",
       "      <td>0</td>\n",
       "      <td>0.228395</td>\n",
       "      <td>15.000000</td>\n",
       "      <td>72.000000</td>\n",
       "      <td>0</td>\n",
       "      <td>0.000067</td>\n",
       "    </tr>\n",
       "  </tbody>\n",
       "</table>\n",
       "<p>5 rows × 24 columns</p>\n",
       "</div>"
      ],
      "text/plain": [
       "  Restaurant_id        City  \\\n",
       "0          id_0       Paris   \n",
       "1          id_1    Helsinki   \n",
       "2          id_2   Edinburgh   \n",
       "3          id_3      London   \n",
       "4          id_4  Bratislava   \n",
       "\n",
       "                                       Cuisine Style  Ranking  Price Range  \\\n",
       "0                                     ['Bar', 'Pub']  12963.0          2.0   \n",
       "1  ['European', 'Scandinavian', 'Gluten Free Opti...    106.0          2.0   \n",
       "2                            ['Vegetarian Friendly']    810.0          2.0   \n",
       "3  ['Italian', 'Mediterranean', 'European', 'Vege...   1669.0          3.0   \n",
       "4  ['Italian', 'Mediterranean', 'European', 'Seaf...     37.0          3.0   \n",
       "\n",
       "   Number of Reviews                                            Reviews  \\\n",
       "0                4.0                                           [[], []]   \n",
       "1               97.0  [['Very good reviews!', 'Fine dining in Hakani...   \n",
       "2               28.0  [['Better than the Links', 'Ivy Black'], ['12/...   \n",
       "3              202.0  [['Most exquisite', 'Delicious and authentic']...   \n",
       "4              162.0  [['Always the best in bratislava', 'Very good ...   \n",
       "\n",
       "                                              URL_TA      ID_TA  sample  ...  \\\n",
       "0  /Restaurant_Review-g187147-d10746918-Reviews-L...  d10746918       0  ...   \n",
       "1  /Restaurant_Review-g189934-d6674944-Reviews-Ra...   d6674944       0  ...   \n",
       "2  /Restaurant_Review-g186525-d13129638-Reviews-B...  d13129638       0  ...   \n",
       "3  /Restaurant_Review-g186338-d680417-Reviews-Qui...    d680417       0  ...   \n",
       "4  /Restaurant_Review-g274924-d1112354-Reviews-Ma...   d1112354       0  ...   \n",
       "\n",
       "   cuis_count  Cuisine Style is NAN    Cuis_Rank  Price Range is NAN  \\\n",
       "0         2.0                     0  6481.500000                   0   \n",
       "1         5.0                     0    21.200000                   0   \n",
       "2         1.0                     0   810.000000                   0   \n",
       "3         5.0                     0   333.800000                   0   \n",
       "4         6.0                     0     6.166667                   0   \n",
       "\n",
       "   Number of Reviews is NAN  Reviews_number_Rank  time_change  len_reviews  \\\n",
       "0                         0          3240.750000   172.991084    66.201194   \n",
       "1                         0             1.092784    37.000000    64.000000   \n",
       "2                         0            28.928571    22.000000    53.000000   \n",
       "3                         0             8.262376    14.000000    60.000000   \n",
       "4                         0             0.228395    15.000000    72.000000   \n",
       "\n",
       "   Reviews is NAN  rev_norm  \n",
       "0               1  0.000211  \n",
       "1               0  0.001675  \n",
       "2               0  0.014525  \n",
       "3               0 -0.004957  \n",
       "4               0  0.000067  \n",
       "\n",
       "[5 rows x 24 columns]"
      ]
     },
     "execution_count": 12,
     "metadata": {},
     "output_type": "execute_result"
    }
   ],
   "source": [
    "# create feature based on dummy from reviews\n",
    " \n",
    "pattern_text = re.compile('[A-Za-z]+') # pattern for words\n",
    "reviews = [] # rows dummy\n",
    "rev_dict = {} # for saving index review in list\n",
    "rev_list = [] # for saving found words\n",
    "reviews_big = pd.DataFrame() #{'rev_norm':[]}) \n",
    " \n",
    "for i in range(5): # for economy operate memory devision data on 5\n",
    "  reviews = []\n",
    "  # create dummy values for reviews\n",
    "  for index in range(10000):\n",
    "    string = data['Reviews'][index+10000*i] # copping value of reviews\n",
    "    if len(string) != 8:\n",
    "    \n",
    "      # the new row in list filled with zeros depending on the number of keys in the dictionary:\n",
    "      reviews.append([0 for x in range(len(rev_dict))]) \n",
    "    \n",
    "      rev_list = pattern_text.findall(data.Reviews[index+10000*i])\n",
    "      for rev in rev_list:\n",
    "      \n",
    "        if rev not in rev_dict.keys(): # new review\n",
    "          rev_dict[rev] = len(rev_dict) # save index cuisine\n",
    "          reviews[index].append(1) # save '1' in end of list\n",
    "        else:\n",
    "          reviews[index][rev_dict[rev]] = 1\n",
    "      \n",
    "    else:  \n",
    "      reviews.append([None for x in range(len(rev_dict))])  \n",
    " \n",
    "  # create new feature\n",
    "  reviews = pd.DataFrame(reviews, columns = list(rev_dict.keys())) \n",
    "  reviews = reviews.dropna(how='all') # delete empty rows\n",
    "  reviews = reviews.fillna(0) # fill NaN zeros\n",
    "  rev_index = reviews.index # save index\n",
    "  reviews = dummy(reviews) # create dummy\n",
    "  reviews = pd.DataFrame({'rev_norm':reviews}, index=rev_index+10000*i) # create dataframe with values and empty rows\n",
    "  reviews_big = reviews_big.append(reviews, sort=False) # collect data\n",
    " \n",
    "# fill empty row in reviews\n",
    "data = pd.concat([data,reviews_big], axis=1) # concatanate tables\n",
    "data = fill_na('rev_norm') # fill empty\n",
    " \n",
    "data.head()"
   ]
  },
  {
   "cell_type": "code",
   "execution_count": 13,
   "metadata": {
    "colab": {
     "base_uri": "https://localhost:8080/",
     "height": 302
    },
    "executionInfo": {
     "elapsed": 1141,
     "status": "ok",
     "timestamp": 1608124151321,
     "user": {
      "displayName": "Kost Bezon",
      "photoUrl": "",
      "userId": "03646334733882107726"
     },
     "user_tz": -180
    },
    "id": "TSV26TBBp0cd",
    "outputId": "72036554-e4ff-4589-df92-f4f84795604a"
   },
   "outputs": [
    {
     "data": {
      "text/plain": [
       "<AxesSubplot:>"
      ]
     },
     "execution_count": 13,
     "metadata": {},
     "output_type": "execute_result"
    },
    {
     "data": {
      "image/png": "[encoded data removed]",
      "text/plain": [
       "<Figure size 360x360 with 1 Axes>"
      ]
     },
     "metadata": {
      "needs_background": "light"
     },
     "output_type": "display_data"
    }
   ],
   "source": [
    "plt.rcParams['figure.figsize'] = (5,5)\n",
    "data['rev_norm'].hist(bins=20)"
   ]
  },
  {
   "cell_type": "markdown",
   "metadata": {
    "id": "Pofoah-VxpOu"
   },
   "source": [
    "## EDA"
   ]
  },
  {
   "cell_type": "markdown",
   "metadata": {},
   "source": [
    "Exploratory Data Analysis - At this stage, we build graphs, look for patterns, anomalies, outliers or relationships between features. In general, the purpose of this stage is to understand what these data can give us and how the signs can be interrelated. Understanding the original features will allow us to generate new, stronger ones and, thereby, make our model better."
   ]
  },
  {
   "cell_type": "markdown",
   "metadata": {},
   "source": [
    "### Feature distribution"
   ]
  },
  {
   "cell_type": "code",
   "execution_count": 14,
   "metadata": {},
   "outputs": [
    {
     "data": {
      "text/plain": [
       "<AxesSubplot:>"
      ]
     },
     "execution_count": 14,
     "metadata": {},
     "output_type": "execute_result"
    },
    {
     "data": {
      "image/png": "[encoded data removed]",
      "text/plain": [
       "<Figure size 720x504 with 1 Axes>"
      ]
     },
     "metadata": {
      "needs_background": "light"
     },
     "output_type": "display_data"
    }
   ],
   "source": [
    "plt.rcParams['figure.figsize'] = (10,7)\n",
    "df_train['Ranking'].hist(bins=100)"
   ]
  },
  {
   "cell_type": "markdown",
   "metadata": {},
   "source": [
    "Many restaurants that do not even reach 2500 places in their city"
   ]
  },
  {
   "cell_type": "code",
   "execution_count": 15,
   "metadata": {},
   "outputs": [
    {
     "data": {
      "text/plain": [
       "<AxesSubplot:>"
      ]
     },
     "execution_count": 15,
     "metadata": {},
     "output_type": "execute_result"
    },
    {
     "data": {
      "image/png": "[encoded data removed]",
      "text/plain": [
       "<Figure size 720x504 with 1 Axes>"
      ]
     },
     "metadata": {
      "needs_background": "light"
     },
     "output_type": "display_data"
    }
   ],
   "source": [
    "df_train['City'].value_counts(ascending=True).plot(kind='barh')"
   ]
  },
  {
   "cell_type": "markdown",
   "metadata": {},
   "source": [
    "Most restaurants in london"
   ]
  },
  {
   "cell_type": "markdown",
   "metadata": {},
   "source": [
    "Big city distribution:"
   ]
  },
  {
   "cell_type": "code",
   "execution_count": 16,
   "metadata": {},
   "outputs": [
    {
     "data": {
      "text/plain": [
       "<AxesSubplot:>"
      ]
     },
     "execution_count": 16,
     "metadata": {},
     "output_type": "execute_result"
    },
    {
     "data": {
      "image/png": "[encoded data removed]",
      "text/plain": [
       "<Figure size 720x504 with 1 Axes>"
      ]
     },
     "metadata": {
      "needs_background": "light"
     },
     "output_type": "display_data"
    }
   ],
   "source": [
    "df_train['Ranking'][df_train['City'] =='London'].hist(bins=100)"
   ]
  },
  {
   "cell_type": "markdown",
   "metadata": {},
   "source": [
    "Look at the top 10 cities:"
   ]
  },
  {
   "cell_type": "code",
   "execution_count": 18,
   "metadata": {},
   "outputs": [
    {
     "data": {
      "image/png": "[encoded data removed]",
      "text/plain": [
       "<Figure size 720x504 with 1 Axes>"
      ]
     },
     "metadata": {
      "needs_background": "light"
     },
     "output_type": "display_data"
    }
   ],
   "source": [
    "for x in (df_train['City'].value_counts())[0:10].index:\n",
    "    df_train['Ranking'][df_train['City'] == x].hist(bins=100)\n",
    "plt.show()"
   ]
  },
  {
   "cell_type": "markdown",
   "metadata": {},
   "source": [
    "### Target variable distribution"
   ]
  },
  {
   "cell_type": "code",
   "execution_count": 19,
   "metadata": {},
   "outputs": [
    {
     "data": {
      "text/plain": [
       "<AxesSubplot:>"
      ]
     },
     "execution_count": 19,
     "metadata": {},
     "output_type": "execute_result"
    },
    {
     "data": {
      "image/png": "[encoded data removed]",
      "text/plain": [
       "<Figure size 720x504 with 1 Axes>"
      ]
     },
     "metadata": {
      "needs_background": "light"
     },
     "output_type": "display_data"
    }
   ],
   "source": [
    "df_train['Rating'].value_counts(ascending=True).plot(kind='barh')"
   ]
  },
  {
   "cell_type": "markdown",
   "metadata": {},
   "source": [
    "### Distribution of the target variable relative to the characteristic"
   ]
  },
  {
   "cell_type": "code",
   "execution_count": 20,
   "metadata": {},
   "outputs": [
    {
     "data": {
      "text/plain": [
       "<AxesSubplot:>"
      ]
     },
     "execution_count": 20,
     "metadata": {},
     "output_type": "execute_result"
    },
    {
     "data": {
      "image/png": "[encoded data removed]",
      "text/plain": [
       "<Figure size 720x504 with 1 Axes>"
      ]
     },
     "metadata": {
      "needs_background": "light"
     },
     "output_type": "display_data"
    }
   ],
   "source": [
    "df_train['Ranking'][df_train['Rating'] == 5].hist(bins=100)"
   ]
  },
  {
   "cell_type": "code",
   "execution_count": 22,
   "metadata": {},
   "outputs": [
    {
     "data": {
      "text/plain": [
       "<AxesSubplot:>"
      ]
     },
     "execution_count": 22,
     "metadata": {},
     "output_type": "execute_result"
    },
    {
     "data": {
      "image/png": "[encoded data removed]",
      "text/plain": [
       "<Figure size 720x504 with 1 Axes>"
      ]
     },
     "metadata": {
      "needs_background": "light"
     },
     "output_type": "display_data"
    }
   ],
   "source": [
    "df_train['Ranking'][df_train['Rating'] < 4].hist(bins=100)"
   ]
  },
  {
   "cell_type": "markdown",
   "metadata": {},
   "source": [
    "Distributions are similar"
   ]
  },
  {
   "cell_type": "markdown",
   "metadata": {},
   "source": [
    "### Feature correlation"
   ]
  },
  {
   "cell_type": "code",
   "execution_count": 23,
   "metadata": {
    "colab": {
     "base_uri": "https://localhost:8080/",
     "height": 259
    },
    "executionInfo": {
     "elapsed": 3519,
     "status": "ok",
     "timestamp": 1608200762780,
     "user": {
      "displayName": "Kost Bezon",
      "photoUrl": "",
      "userId": "03646334733882107726"
     },
     "user_tz": -180
    },
    "id": "fYLc_wQ5xpOw",
    "outputId": "987e3632-80f7-4e59-da94-928ac0949433"
   },
   "outputs": [
    {
     "data": {
      "text/plain": [
       "<AxesSubplot:>"
      ]
     },
     "execution_count": 23,
     "metadata": {},
     "output_type": "execute_result"
    },
    {
     "data": {
      "image/png": "[encoded data removed]",
      "text/plain": [
       "<Figure size 1080x720 with 2 Axes>"
      ]
     },
     "metadata": {
      "needs_background": "light"
     },
     "output_type": "display_data"
    }
   ],
   "source": [
    "plt.rcParams['figure.figsize'] = (15,10)\n",
    "sns.heatmap(data.drop(['sample'], axis=1).corr(),annot=True)"
   ]
  },
  {
   "cell_type": "markdown",
   "metadata": {
    "id": "GOTxpMfxxpOy"
   },
   "source": [
    "## Data Preprocessing"
   ]
  },
  {
   "cell_type": "markdown",
   "metadata": {
    "id": "IN-m5SurxpOz"
   },
   "source": [
    "For convenience and reproducibility of the code, we will wrap all the processing in one big function"
   ]
  },
  {
   "cell_type": "code",
   "execution_count": 24,
   "metadata": {
    "colab": {
     "base_uri": "https://localhost:8080/",
     "height": 1000
    },
    "executionInfo": {
     "elapsed": 4930,
     "status": "ok",
     "timestamp": 1608200820826,
     "user": {
      "displayName": "Kost Bezon",
      "photoUrl": "",
      "userId": "03646334733882107726"
     },
     "user_tz": -180
    },
    "id": "tWIJXy5JxpO0",
    "outputId": "a06ba9a8-874d-4a93-f786-1e11dca67895"
   },
   "outputs": [
    {
     "name": "stdout",
     "output_type": "stream",
     "text": [
      "<class 'pandas.core.frame.DataFrame'>\n",
      "Int64Index: 50000 entries, 0 to 49999\n",
      "Data columns (total 24 columns):\n",
      " #   Column                    Non-Null Count  Dtype  \n",
      "---  ------                    --------------  -----  \n",
      " 0   Restaurant_id             50000 non-null  object \n",
      " 1   City                      50000 non-null  object \n",
      " 2   Cuisine Style             38410 non-null  object \n",
      " 3   Ranking                   50000 non-null  float64\n",
      " 4   Price Range               50000 non-null  float64\n",
      " 5   Number of Reviews         50000 non-null  float64\n",
      " 6   Reviews                   50000 non-null  object \n",
      " 7   URL_TA                    50000 non-null  object \n",
      " 8   ID_TA                     50000 non-null  object \n",
      " 9   sample                    50000 non-null  int64  \n",
      " 10  Rating                    50000 non-null  float64\n",
      " 11  city_norm                 50000 non-null  float64\n",
      " 12  City_Rank                 50000 non-null  float64\n",
      " 13  cuis_norm                 50000 non-null  float64\n",
      " 14  cuis_count                50000 non-null  float64\n",
      " 15  Cuisine Style is NAN      50000 non-null  uint8  \n",
      " 16  Cuis_Rank                 50000 non-null  float64\n",
      " 17  Price Range is NAN        50000 non-null  uint8  \n",
      " 18  Number of Reviews is NAN  50000 non-null  uint8  \n",
      " 19  Reviews_number_Rank       50000 non-null  float64\n",
      " 20  time_change               50000 non-null  float64\n",
      " 21  len_reviews               50000 non-null  float64\n",
      " 22  Reviews is NAN            50000 non-null  uint8  \n",
      " 23  rev_norm                  50000 non-null  float64\n",
      "dtypes: float64(13), int64(1), object(6), uint8(4)\n",
      "memory usage: 9.5+ MB\n"
     ]
    },
    {
     "data": {
      "text/html": [
       "<div>\n",
       "<style scoped>\n",
       "    .dataframe tbody tr th:only-of-type {\n",
       "        vertical-align: middle;\n",
       "    }\n",
       "\n",
       "    .dataframe tbody tr th {\n",
       "        vertical-align: top;\n",
       "    }\n",
       "\n",
       "    .dataframe thead th {\n",
       "        text-align: right;\n",
       "    }\n",
       "</style>\n",
       "<table border=\"1\" class=\"dataframe\">\n",
       "  <thead>\n",
       "    <tr style=\"text-align: right;\">\n",
       "      <th></th>\n",
       "      <th>Restaurant_id</th>\n",
       "      <th>City</th>\n",
       "      <th>Cuisine Style</th>\n",
       "      <th>Ranking</th>\n",
       "      <th>Price Range</th>\n",
       "      <th>Number of Reviews</th>\n",
       "      <th>Reviews</th>\n",
       "      <th>URL_TA</th>\n",
       "      <th>ID_TA</th>\n",
       "      <th>sample</th>\n",
       "      <th>...</th>\n",
       "      <th>cuis_count</th>\n",
       "      <th>Cuisine Style is NAN</th>\n",
       "      <th>Cuis_Rank</th>\n",
       "      <th>Price Range is NAN</th>\n",
       "      <th>Number of Reviews is NAN</th>\n",
       "      <th>Reviews_number_Rank</th>\n",
       "      <th>time_change</th>\n",
       "      <th>len_reviews</th>\n",
       "      <th>Reviews is NAN</th>\n",
       "      <th>rev_norm</th>\n",
       "    </tr>\n",
       "  </thead>\n",
       "  <tbody>\n",
       "    <tr>\n",
       "      <th>0</th>\n",
       "      <td>id_0</td>\n",
       "      <td>Paris</td>\n",
       "      <td>['Bar', 'Pub']</td>\n",
       "      <td>12963.0</td>\n",
       "      <td>2.0</td>\n",
       "      <td>4.0</td>\n",
       "      <td>[[], []]</td>\n",
       "      <td>/Restaurant_Review-g187147-d10746918-Reviews-L...</td>\n",
       "      <td>d10746918</td>\n",
       "      <td>0</td>\n",
       "      <td>...</td>\n",
       "      <td>2.0</td>\n",
       "      <td>0</td>\n",
       "      <td>6481.500000</td>\n",
       "      <td>0</td>\n",
       "      <td>0</td>\n",
       "      <td>3240.750000</td>\n",
       "      <td>172.991084</td>\n",
       "      <td>66.201194</td>\n",
       "      <td>1</td>\n",
       "      <td>0.000211</td>\n",
       "    </tr>\n",
       "    <tr>\n",
       "      <th>1</th>\n",
       "      <td>id_1</td>\n",
       "      <td>Helsinki</td>\n",
       "      <td>['European', 'Scandinavian', 'Gluten Free Opti...</td>\n",
       "      <td>106.0</td>\n",
       "      <td>2.0</td>\n",
       "      <td>97.0</td>\n",
       "      <td>[['Very good reviews!', 'Fine dining in Hakani...</td>\n",
       "      <td>/Restaurant_Review-g189934-d6674944-Reviews-Ra...</td>\n",
       "      <td>d6674944</td>\n",
       "      <td>0</td>\n",
       "      <td>...</td>\n",
       "      <td>5.0</td>\n",
       "      <td>0</td>\n",
       "      <td>21.200000</td>\n",
       "      <td>0</td>\n",
       "      <td>0</td>\n",
       "      <td>1.092784</td>\n",
       "      <td>37.000000</td>\n",
       "      <td>64.000000</td>\n",
       "      <td>0</td>\n",
       "      <td>0.001675</td>\n",
       "    </tr>\n",
       "    <tr>\n",
       "      <th>2</th>\n",
       "      <td>id_2</td>\n",
       "      <td>Edinburgh</td>\n",
       "      <td>['Vegetarian Friendly']</td>\n",
       "      <td>810.0</td>\n",
       "      <td>2.0</td>\n",
       "      <td>28.0</td>\n",
       "      <td>[['Better than the Links', 'Ivy Black'], ['12/...</td>\n",
       "      <td>/Restaurant_Review-g186525-d13129638-Reviews-B...</td>\n",
       "      <td>d13129638</td>\n",
       "      <td>0</td>\n",
       "      <td>...</td>\n",
       "      <td>1.0</td>\n",
       "      <td>0</td>\n",
       "      <td>810.000000</td>\n",
       "      <td>0</td>\n",
       "      <td>0</td>\n",
       "      <td>28.928571</td>\n",
       "      <td>22.000000</td>\n",
       "      <td>53.000000</td>\n",
       "      <td>0</td>\n",
       "      <td>0.014525</td>\n",
       "    </tr>\n",
       "    <tr>\n",
       "      <th>3</th>\n",
       "      <td>id_3</td>\n",
       "      <td>London</td>\n",
       "      <td>['Italian', 'Mediterranean', 'European', 'Vege...</td>\n",
       "      <td>1669.0</td>\n",
       "      <td>3.0</td>\n",
       "      <td>202.0</td>\n",
       "      <td>[['Most exquisite', 'Delicious and authentic']...</td>\n",
       "      <td>/Restaurant_Review-g186338-d680417-Reviews-Qui...</td>\n",
       "      <td>d680417</td>\n",
       "      <td>0</td>\n",
       "      <td>...</td>\n",
       "      <td>5.0</td>\n",
       "      <td>0</td>\n",
       "      <td>333.800000</td>\n",
       "      <td>0</td>\n",
       "      <td>0</td>\n",
       "      <td>8.262376</td>\n",
       "      <td>14.000000</td>\n",
       "      <td>60.000000</td>\n",
       "      <td>0</td>\n",
       "      <td>-0.004957</td>\n",
       "    </tr>\n",
       "    <tr>\n",
       "      <th>4</th>\n",
       "      <td>id_4</td>\n",
       "      <td>Bratislava</td>\n",
       "      <td>['Italian', 'Mediterranean', 'European', 'Seaf...</td>\n",
       "      <td>37.0</td>\n",
       "      <td>3.0</td>\n",
       "      <td>162.0</td>\n",
       "      <td>[['Always the best in bratislava', 'Very good ...</td>\n",
       "      <td>/Restaurant_Review-g274924-d1112354-Reviews-Ma...</td>\n",
       "      <td>d1112354</td>\n",
       "      <td>0</td>\n",
       "      <td>...</td>\n",
       "      <td>6.0</td>\n",
       "      <td>0</td>\n",
       "      <td>6.166667</td>\n",
       "      <td>0</td>\n",
       "      <td>0</td>\n",
       "      <td>0.228395</td>\n",
       "      <td>15.000000</td>\n",
       "      <td>72.000000</td>\n",
       "      <td>0</td>\n",
       "      <td>0.000067</td>\n",
       "    </tr>\n",
       "  </tbody>\n",
       "</table>\n",
       "<p>5 rows × 24 columns</p>\n",
       "</div>"
      ],
      "text/plain": [
       "  Restaurant_id        City  \\\n",
       "0          id_0       Paris   \n",
       "1          id_1    Helsinki   \n",
       "2          id_2   Edinburgh   \n",
       "3          id_3      London   \n",
       "4          id_4  Bratislava   \n",
       "\n",
       "                                       Cuisine Style  Ranking  Price Range  \\\n",
       "0                                     ['Bar', 'Pub']  12963.0          2.0   \n",
       "1  ['European', 'Scandinavian', 'Gluten Free Opti...    106.0          2.0   \n",
       "2                            ['Vegetarian Friendly']    810.0          2.0   \n",
       "3  ['Italian', 'Mediterranean', 'European', 'Vege...   1669.0          3.0   \n",
       "4  ['Italian', 'Mediterranean', 'European', 'Seaf...     37.0          3.0   \n",
       "\n",
       "   Number of Reviews                                            Reviews  \\\n",
       "0                4.0                                           [[], []]   \n",
       "1               97.0  [['Very good reviews!', 'Fine dining in Hakani...   \n",
       "2               28.0  [['Better than the Links', 'Ivy Black'], ['12/...   \n",
       "3              202.0  [['Most exquisite', 'Delicious and authentic']...   \n",
       "4              162.0  [['Always the best in bratislava', 'Very good ...   \n",
       "\n",
       "                                              URL_TA      ID_TA  sample  ...  \\\n",
       "0  /Restaurant_Review-g187147-d10746918-Reviews-L...  d10746918       0  ...   \n",
       "1  /Restaurant_Review-g189934-d6674944-Reviews-Ra...   d6674944       0  ...   \n",
       "2  /Restaurant_Review-g186525-d13129638-Reviews-B...  d13129638       0  ...   \n",
       "3  /Restaurant_Review-g186338-d680417-Reviews-Qui...    d680417       0  ...   \n",
       "4  /Restaurant_Review-g274924-d1112354-Reviews-Ma...   d1112354       0  ...   \n",
       "\n",
       "   cuis_count  Cuisine Style is NAN    Cuis_Rank  Price Range is NAN  \\\n",
       "0         2.0                     0  6481.500000                   0   \n",
       "1         5.0                     0    21.200000                   0   \n",
       "2         1.0                     0   810.000000                   0   \n",
       "3         5.0                     0   333.800000                   0   \n",
       "4         6.0                     0     6.166667                   0   \n",
       "\n",
       "   Number of Reviews is NAN  Reviews_number_Rank  time_change  len_reviews  \\\n",
       "0                         0          3240.750000   172.991084    66.201194   \n",
       "1                         0             1.092784    37.000000    64.000000   \n",
       "2                         0            28.928571    22.000000    53.000000   \n",
       "3                         0             8.262376    14.000000    60.000000   \n",
       "4                         0             0.228395    15.000000    72.000000   \n",
       "\n",
       "   Reviews is NAN  rev_norm  \n",
       "0               1  0.000211  \n",
       "1               0  0.001675  \n",
       "2               0  0.014525  \n",
       "3               0 -0.004957  \n",
       "4               0  0.000067  \n",
       "\n",
       "[5 rows x 24 columns]"
      ]
     },
     "execution_count": 24,
     "metadata": {},
     "output_type": "execute_result"
    }
   ],
   "source": [
    "data.info()\n",
    "data.head()"
   ]
  },
  {
   "cell_type": "code",
   "execution_count": 25,
   "metadata": {
    "executionInfo": {
     "elapsed": 2253,
     "status": "ok",
     "timestamp": 1608200836198,
     "user": {
      "displayName": "Kost Bezon",
      "photoUrl": "",
      "userId": "03646334733882107726"
     },
     "user_tz": -180
    },
    "id": "F2-FpAXNxpO2"
   },
   "outputs": [],
   "source": [
    "object_columns = [s for s in data.columns if data[s].dtypes == 'object']\n",
    "data.drop(object_columns, axis = 1, inplace=True)\n",
    "# Now let's select the test part\n",
    "train_data = data.query('sample == 1').drop(['sample'], axis=1)\n",
    "test_data = data.query('sample == 0').drop(['sample'], axis=1)\n",
    " \n",
    "y = train_data.Rating.values            # our target\n",
    "X = train_data.drop(['Rating'], axis=1)"
   ]
  },
  {
   "cell_type": "markdown",
   "metadata": {
    "id": "sg9SLhF0xpO4"
   },
   "source": [
    "Before sending our data for training, we will divide the data into another test and train for validation. This will help us test how well our model is performing before submitting the submissiona to kaggle."
   ]
  },
  {
   "cell_type": "code",
   "execution_count": 26,
   "metadata": {
    "colab": {
     "base_uri": "https://localhost:8080/"
    },
    "executionInfo": {
     "elapsed": 1338,
     "status": "ok",
     "timestamp": 1608200843060,
     "user": {
      "displayName": "Kost Bezon",
      "photoUrl": "",
      "userId": "03646334733882107726"
     },
     "user_tz": -180
    },
    "id": "qvSckSWMxpO5",
    "outputId": "2b1cf5f0-6ea6-48fb-fd4f-844ff46fe1da"
   },
   "outputs": [
    {
     "data": {
      "text/plain": [
       "((10000, 17), (40000, 17), (40000, 16), (32000, 16), (8000, 16))"
      ]
     },
     "execution_count": 26,
     "metadata": {},
     "output_type": "execute_result"
    }
   ],
   "source": [
    "# Let's use the special function train_test_split to split test data\n",
    "# allocate 20% of the data for validation (parameter test_size)\n",
    "X_train, X_test, y_train, y_test = train_test_split (X, y, test_size = 0.2, random_state = RANDOM_SEED)\n",
    "# check\n",
    "test_data.shape, train_data.shape, X.shape, X_train.shape, X_test.shape"
   ]
  },
  {
   "cell_type": "markdown",
   "metadata": {
    "id": "UWma5NbHxpO-"
   },
   "source": [
    "## Model"
   ]
  },
  {
   "cell_type": "markdown",
   "metadata": {
    "id": "8e5hXRKwxpO_"
   },
   "source": [
    "Сам ML"
   ]
  },
  {
   "cell_type": "code",
   "execution_count": 27,
   "metadata": {
    "colab": {
     "base_uri": "https://localhost:8080/"
    },
    "executionInfo": {
     "elapsed": 22323,
     "status": "ok",
     "timestamp": 1608200872003,
     "user": {
      "displayName": "Kost Bezon",
      "photoUrl": "",
      "userId": "03646334733882107726"
     },
     "user_tz": -180
    },
    "id": "1e2T027zxpPB",
    "outputId": "c1fa6b2b-ce53-4b2a-dd05-e0902dd95d0a"
   },
   "outputs": [
    {
     "name": "stderr",
     "output_type": "stream",
     "text": [
      "[Parallel(n_jobs=-1)]: Using backend ThreadingBackend with 2 concurrent workers.\n",
      "[Parallel(n_jobs=-1)]: Done  46 tasks      | elapsed:   12.9s\n",
      "[Parallel(n_jobs=-1)]: Done 100 out of 100 | elapsed:   29.6s finished\n",
      "[Parallel(n_jobs=2)]: Using backend ThreadingBackend with 2 concurrent workers.\n",
      "[Parallel(n_jobs=2)]: Done  46 tasks      | elapsed:    0.2s\n",
      "[Parallel(n_jobs=2)]: Done 100 out of 100 | elapsed:    0.3s finished\n"
     ]
    }
   ],
   "source": [
    "# Import the required libraries:\n",
    "from sklearn.ensemble import RandomForestRegressor # tool for creating and training the model\n",
    "from sklearn import metrics # tools for assessing model accuracy\n",
    " \n",
    "# Create the model (DO NOT HANDLE SETTINGS)\n",
    "model = RandomForestRegressor (n_estimators = 100, verbose = 1, n_jobs = -1, random_state = RANDOM_SEED)\n",
    " \n",
    "# Train the model on the test dataset\n",
    "model.fit (X_train, y_train)\n",
    " \n",
    "# We use a trained model to predict restaurant ratings in a test sample.\n",
    "# The predicted values are written to the y_pred variable\n",
    "y_pred = model.predict (X_test)"
   ]
  },
  {
   "cell_type": "code",
   "execution_count": 28,
   "metadata": {
    "colab": {
     "base_uri": "https://localhost:8080/"
    },
    "executionInfo": {
     "elapsed": 1616,
     "status": "ok",
     "timestamp": 1608200879948,
     "user": {
      "displayName": "Kost Bezon",
      "photoUrl": "",
      "userId": "03646334733882107726"
     },
     "user_tz": -180
    },
    "id": "jogMtLB3xpPF",
    "outputId": "b1394a81-48e9-4929-f57b-0b7ccd0846a5"
   },
   "outputs": [
    {
     "name": "stdout",
     "output_type": "stream",
     "text": [
      "MAE: 0.21509749999999997\n"
     ]
    }
   ],
   "source": [
    "# Compare the predicted values (y_pred) with the real ones (y_test), and see how much they differ on average\n",
    "# The metric is called the Mean Absolute Error (MAE) and shows the average deviation \n",
    "#  of the predicted values from the actual ones.\n",
    "print ('MAE:', metrics.mean_absolute_error (y_test, y_pred))"
   ]
  },
  {
   "cell_type": "code",
   "execution_count": 29,
   "metadata": {
    "colab": {
     "base_uri": "https://localhost:8080/",
     "height": 273
    },
    "executionInfo": {
     "elapsed": 1060,
     "status": "ok",
     "timestamp": 1608200887737,
     "user": {
      "displayName": "Kost Bezon",
      "photoUrl": "",
      "userId": "03646334733882107726"
     },
     "user_tz": -180
    },
    "id": "QlJoQnCUxpPH",
    "outputId": "9ac0b22c-a773-4d58-cd99-33cbdb56a964"
   },
   "outputs": [
    {
     "data": {
      "text/plain": [
       "<AxesSubplot:>"
      ]
     },
     "execution_count": 29,
     "metadata": {},
     "output_type": "execute_result"
    },
    {
     "data": {
      "image/png": "[encoded data removed]",
      "text/plain": [
       "<Figure size 720x720 with 1 Axes>"
      ]
     },
     "metadata": {
      "needs_background": "light"
     },
     "output_type": "display_data"
    }
   ],
   "source": [
    "# in RandomForestRegressor it is possible to display the most important features for the model\n",
    "plt.rcParams ['figure.figsize'] = (10,10)\n",
    "feat_importances = pd.Series (model.feature_importances_, index = X.columns)\n",
    "feat_importances.nlargest (15) .plot (kind = 'barh')"
   ]
  },
  {
   "cell_type": "markdown",
   "metadata": {
    "id": "Dg5vrFtUxpPK"
   },
   "source": [
    "## Submission"
   ]
  },
  {
   "cell_type": "markdown",
   "metadata": {
    "id": "ln6-1x2KxpPL"
   },
   "source": [
    "If everything suits, prepare Submission for kaggle"
   ]
  },
  {
   "cell_type": "code",
   "execution_count": 30,
   "metadata": {
    "id": "v3Nj6BiSxpPN",
    "outputId": "85af8f65-ee2e-4c9b-e640-543bc80bb7b8"
   },
   "outputs": [
    {
     "data": {
      "text/html": [
       "<div>\n",
       "<style scoped>\n",
       "    .dataframe tbody tr th:only-of-type {\n",
       "        vertical-align: middle;\n",
       "    }\n",
       "\n",
       "    .dataframe tbody tr th {\n",
       "        vertical-align: top;\n",
       "    }\n",
       "\n",
       "    .dataframe thead th {\n",
       "        text-align: right;\n",
       "    }\n",
       "</style>\n",
       "<table border=\"1\" class=\"dataframe\">\n",
       "  <thead>\n",
       "    <tr style=\"text-align: right;\">\n",
       "      <th></th>\n",
       "      <th>Ranking</th>\n",
       "      <th>Price Range</th>\n",
       "      <th>Number of Reviews</th>\n",
       "      <th>Rating</th>\n",
       "      <th>city_norm</th>\n",
       "      <th>City_Rank</th>\n",
       "      <th>cuis_norm</th>\n",
       "      <th>cuis_count</th>\n",
       "      <th>Cuisine Style is NAN</th>\n",
       "      <th>Cuis_Rank</th>\n",
       "      <th>Price Range is NAN</th>\n",
       "      <th>Number of Reviews is NAN</th>\n",
       "      <th>Reviews_number_Rank</th>\n",
       "      <th>time_change</th>\n",
       "      <th>len_reviews</th>\n",
       "      <th>Reviews is NAN</th>\n",
       "      <th>rev_norm</th>\n",
       "    </tr>\n",
       "  </thead>\n",
       "  <tbody>\n",
       "    <tr>\n",
       "      <th>7022</th>\n",
       "      <td>651.0</td>\n",
       "      <td>2.000000</td>\n",
       "      <td>56.000000</td>\n",
       "      <td>0.0</td>\n",
       "      <td>0.005189</td>\n",
       "      <td>0.778708</td>\n",
       "      <td>-0.002318</td>\n",
       "      <td>2.000000</td>\n",
       "      <td>0</td>\n",
       "      <td>325.500000</td>\n",
       "      <td>0</td>\n",
       "      <td>0</td>\n",
       "      <td>11.625000</td>\n",
       "      <td>10.000000</td>\n",
       "      <td>38.000000</td>\n",
       "      <td>0</td>\n",
       "      <td>-0.011672</td>\n",
       "    </tr>\n",
       "    <tr>\n",
       "      <th>5332</th>\n",
       "      <td>2493.0</td>\n",
       "      <td>2.000000</td>\n",
       "      <td>416.000000</td>\n",
       "      <td>0.0</td>\n",
       "      <td>-0.004700</td>\n",
       "      <td>0.346587</td>\n",
       "      <td>0.036958</td>\n",
       "      <td>6.000000</td>\n",
       "      <td>0</td>\n",
       "      <td>415.500000</td>\n",
       "      <td>0</td>\n",
       "      <td>0</td>\n",
       "      <td>5.992788</td>\n",
       "      <td>1.000000</td>\n",
       "      <td>89.000000</td>\n",
       "      <td>0</td>\n",
       "      <td>-0.000486</td>\n",
       "    </tr>\n",
       "    <tr>\n",
       "      <th>4763</th>\n",
       "      <td>2659.0</td>\n",
       "      <td>1.832700</td>\n",
       "      <td>6.000000</td>\n",
       "      <td>0.0</td>\n",
       "      <td>0.001837</td>\n",
       "      <td>1.938047</td>\n",
       "      <td>-0.003114</td>\n",
       "      <td>1.000000</td>\n",
       "      <td>0</td>\n",
       "      <td>2659.000000</td>\n",
       "      <td>1</td>\n",
       "      <td>0</td>\n",
       "      <td>443.166667</td>\n",
       "      <td>848.000000</td>\n",
       "      <td>56.000000</td>\n",
       "      <td>0</td>\n",
       "      <td>0.003281</td>\n",
       "    </tr>\n",
       "    <tr>\n",
       "      <th>1089</th>\n",
       "      <td>1914.0</td>\n",
       "      <td>1.942238</td>\n",
       "      <td>7.000000</td>\n",
       "      <td>0.0</td>\n",
       "      <td>0.003653</td>\n",
       "      <td>1.852856</td>\n",
       "      <td>0.001047</td>\n",
       "      <td>3.159059</td>\n",
       "      <td>1</td>\n",
       "      <td>605.876532</td>\n",
       "      <td>1</td>\n",
       "      <td>0</td>\n",
       "      <td>273.428571</td>\n",
       "      <td>53.000000</td>\n",
       "      <td>46.000000</td>\n",
       "      <td>0</td>\n",
       "      <td>-0.009676</td>\n",
       "    </tr>\n",
       "    <tr>\n",
       "      <th>5751</th>\n",
       "      <td>456.0</td>\n",
       "      <td>2.000000</td>\n",
       "      <td>53.000000</td>\n",
       "      <td>0.0</td>\n",
       "      <td>0.008693</td>\n",
       "      <td>0.823105</td>\n",
       "      <td>-0.002926</td>\n",
       "      <td>3.000000</td>\n",
       "      <td>0</td>\n",
       "      <td>152.000000</td>\n",
       "      <td>0</td>\n",
       "      <td>0</td>\n",
       "      <td>8.603774</td>\n",
       "      <td>85.000000</td>\n",
       "      <td>72.000000</td>\n",
       "      <td>0</td>\n",
       "      <td>-0.008894</td>\n",
       "    </tr>\n",
       "    <tr>\n",
       "      <th>5385</th>\n",
       "      <td>1592.0</td>\n",
       "      <td>2.000000</td>\n",
       "      <td>19.000000</td>\n",
       "      <td>0.0</td>\n",
       "      <td>0.004433</td>\n",
       "      <td>1.721081</td>\n",
       "      <td>-0.003716</td>\n",
       "      <td>1.000000</td>\n",
       "      <td>0</td>\n",
       "      <td>1592.000000</td>\n",
       "      <td>0</td>\n",
       "      <td>0</td>\n",
       "      <td>83.789474</td>\n",
       "      <td>71.000000</td>\n",
       "      <td>62.000000</td>\n",
       "      <td>0</td>\n",
       "      <td>0.003419</td>\n",
       "    </tr>\n",
       "    <tr>\n",
       "      <th>7225</th>\n",
       "      <td>7093.0</td>\n",
       "      <td>1.891774</td>\n",
       "      <td>11.000000</td>\n",
       "      <td>0.0</td>\n",
       "      <td>-0.004292</td>\n",
       "      <td>1.161264</td>\n",
       "      <td>-0.001370</td>\n",
       "      <td>2.453125</td>\n",
       "      <td>1</td>\n",
       "      <td>2891.414013</td>\n",
       "      <td>1</td>\n",
       "      <td>0</td>\n",
       "      <td>644.818182</td>\n",
       "      <td>193.000000</td>\n",
       "      <td>65.000000</td>\n",
       "      <td>0</td>\n",
       "      <td>0.009807</td>\n",
       "    </tr>\n",
       "    <tr>\n",
       "      <th>7735</th>\n",
       "      <td>1263.0</td>\n",
       "      <td>1.813167</td>\n",
       "      <td>13.000000</td>\n",
       "      <td>0.0</td>\n",
       "      <td>0.004433</td>\n",
       "      <td>1.365405</td>\n",
       "      <td>0.000750</td>\n",
       "      <td>3.159463</td>\n",
       "      <td>1</td>\n",
       "      <td>399.751415</td>\n",
       "      <td>1</td>\n",
       "      <td>0</td>\n",
       "      <td>97.153846</td>\n",
       "      <td>314.000000</td>\n",
       "      <td>59.000000</td>\n",
       "      <td>0</td>\n",
       "      <td>-0.007890</td>\n",
       "    </tr>\n",
       "    <tr>\n",
       "      <th>3290</th>\n",
       "      <td>6682.0</td>\n",
       "      <td>1.891774</td>\n",
       "      <td>3.000000</td>\n",
       "      <td>0.0</td>\n",
       "      <td>-0.004292</td>\n",
       "      <td>1.093975</td>\n",
       "      <td>0.004966</td>\n",
       "      <td>2.000000</td>\n",
       "      <td>0</td>\n",
       "      <td>3341.000000</td>\n",
       "      <td>1</td>\n",
       "      <td>0</td>\n",
       "      <td>2227.333333</td>\n",
       "      <td>172.991084</td>\n",
       "      <td>48.000000</td>\n",
       "      <td>0</td>\n",
       "      <td>-0.007125</td>\n",
       "    </tr>\n",
       "    <tr>\n",
       "      <th>6167</th>\n",
       "      <td>1106.0</td>\n",
       "      <td>1.813167</td>\n",
       "      <td>67.112183</td>\n",
       "      <td>0.0</td>\n",
       "      <td>0.004433</td>\n",
       "      <td>1.195676</td>\n",
       "      <td>0.000750</td>\n",
       "      <td>3.159463</td>\n",
       "      <td>1</td>\n",
       "      <td>350.059434</td>\n",
       "      <td>1</td>\n",
       "      <td>1</td>\n",
       "      <td>16.479869</td>\n",
       "      <td>155.167763</td>\n",
       "      <td>63.842667</td>\n",
       "      <td>1</td>\n",
       "      <td>-0.000758</td>\n",
       "    </tr>\n",
       "  </tbody>\n",
       "</table>\n",
       "</div>"
      ],
      "text/plain": [
       "      Ranking  Price Range  Number of Reviews  Rating  city_norm  City_Rank  \\\n",
       "7022    651.0     2.000000          56.000000     0.0   0.005189   0.778708   \n",
       "5332   2493.0     2.000000         416.000000     0.0  -0.004700   0.346587   \n",
       "4763   2659.0     1.832700           6.000000     0.0   0.001837   1.938047   \n",
       "1089   1914.0     1.942238           7.000000     0.0   0.003653   1.852856   \n",
       "5751    456.0     2.000000          53.000000     0.0   0.008693   0.823105   \n",
       "5385   1592.0     2.000000          19.000000     0.0   0.004433   1.721081   \n",
       "7225   7093.0     1.891774          11.000000     0.0  -0.004292   1.161264   \n",
       "7735   1263.0     1.813167          13.000000     0.0   0.004433   1.365405   \n",
       "3290   6682.0     1.891774           3.000000     0.0  -0.004292   1.093975   \n",
       "6167   1106.0     1.813167          67.112183     0.0   0.004433   1.195676   \n",
       "\n",
       "      cuis_norm  cuis_count  Cuisine Style is NAN    Cuis_Rank  \\\n",
       "7022  -0.002318    2.000000                     0   325.500000   \n",
       "5332   0.036958    6.000000                     0   415.500000   \n",
       "4763  -0.003114    1.000000                     0  2659.000000   \n",
       "1089   0.001047    3.159059                     1   605.876532   \n",
       "5751  -0.002926    3.000000                     0   152.000000   \n",
       "5385  -0.003716    1.000000                     0  1592.000000   \n",
       "7225  -0.001370    2.453125                     1  2891.414013   \n",
       "7735   0.000750    3.159463                     1   399.751415   \n",
       "3290   0.004966    2.000000                     0  3341.000000   \n",
       "6167   0.000750    3.159463                     1   350.059434   \n",
       "\n",
       "      Price Range is NAN  Number of Reviews is NAN  Reviews_number_Rank  \\\n",
       "7022                   0                         0            11.625000   \n",
       "5332                   0                         0             5.992788   \n",
       "4763                   1                         0           443.166667   \n",
       "1089                   1                         0           273.428571   \n",
       "5751                   0                         0             8.603774   \n",
       "5385                   0                         0            83.789474   \n",
       "7225                   1                         0           644.818182   \n",
       "7735                   1                         0            97.153846   \n",
       "3290                   1                         0          2227.333333   \n",
       "6167                   1                         1            16.479869   \n",
       "\n",
       "      time_change  len_reviews  Reviews is NAN  rev_norm  \n",
       "7022    10.000000    38.000000               0 -0.011672  \n",
       "5332     1.000000    89.000000               0 -0.000486  \n",
       "4763   848.000000    56.000000               0  0.003281  \n",
       "1089    53.000000    46.000000               0 -0.009676  \n",
       "5751    85.000000    72.000000               0 -0.008894  \n",
       "5385    71.000000    62.000000               0  0.003419  \n",
       "7225   193.000000    65.000000               0  0.009807  \n",
       "7735   314.000000    59.000000               0 -0.007890  \n",
       "3290   172.991084    48.000000               0 -0.007125  \n",
       "6167   155.167763    63.842667               1 -0.000758  "
      ]
     },
     "execution_count": 30,
     "metadata": {},
     "output_type": "execute_result"
    }
   ],
   "source": [
    "test_data.sample(10)"
   ]
  },
  {
   "cell_type": "code",
   "execution_count": 31,
   "metadata": {
    "id": "f34m8LIsxpPP",
    "outputId": "67a974a9-557d-4a8f-d504-fb5ea73089e5"
   },
   "outputs": [
    {
     "data": {
      "text/html": [
       "<div>\n",
       "<style scoped>\n",
       "    .dataframe tbody tr th:only-of-type {\n",
       "        vertical-align: middle;\n",
       "    }\n",
       "\n",
       "    .dataframe tbody tr th {\n",
       "        vertical-align: top;\n",
       "    }\n",
       "\n",
       "    .dataframe thead th {\n",
       "        text-align: right;\n",
       "    }\n",
       "</style>\n",
       "<table border=\"1\" class=\"dataframe\">\n",
       "  <thead>\n",
       "    <tr style=\"text-align: right;\">\n",
       "      <th></th>\n",
       "      <th>Restaurant_id</th>\n",
       "      <th>Rating</th>\n",
       "    </tr>\n",
       "  </thead>\n",
       "  <tbody>\n",
       "    <tr>\n",
       "      <th>0</th>\n",
       "      <td>id_0</td>\n",
       "      <td>2.0</td>\n",
       "    </tr>\n",
       "    <tr>\n",
       "      <th>1</th>\n",
       "      <td>id_1</td>\n",
       "      <td>2.5</td>\n",
       "    </tr>\n",
       "    <tr>\n",
       "      <th>2</th>\n",
       "      <td>id_2</td>\n",
       "      <td>4.0</td>\n",
       "    </tr>\n",
       "    <tr>\n",
       "      <th>3</th>\n",
       "      <td>id_3</td>\n",
       "      <td>1.0</td>\n",
       "    </tr>\n",
       "    <tr>\n",
       "      <th>4</th>\n",
       "      <td>id_4</td>\n",
       "      <td>4.0</td>\n",
       "    </tr>\n",
       "    <tr>\n",
       "      <th>...</th>\n",
       "      <td>...</td>\n",
       "      <td>...</td>\n",
       "    </tr>\n",
       "    <tr>\n",
       "      <th>9995</th>\n",
       "      <td>id_9995</td>\n",
       "      <td>3.0</td>\n",
       "    </tr>\n",
       "    <tr>\n",
       "      <th>9996</th>\n",
       "      <td>id_9996</td>\n",
       "      <td>1.5</td>\n",
       "    </tr>\n",
       "    <tr>\n",
       "      <th>9997</th>\n",
       "      <td>id_9997</td>\n",
       "      <td>4.5</td>\n",
       "    </tr>\n",
       "    <tr>\n",
       "      <th>9998</th>\n",
       "      <td>id_9998</td>\n",
       "      <td>1.0</td>\n",
       "    </tr>\n",
       "    <tr>\n",
       "      <th>9999</th>\n",
       "      <td>id_9999</td>\n",
       "      <td>2.5</td>\n",
       "    </tr>\n",
       "  </tbody>\n",
       "</table>\n",
       "<p>10000 rows × 2 columns</p>\n",
       "</div>"
      ],
      "text/plain": [
       "     Restaurant_id  Rating\n",
       "0             id_0     2.0\n",
       "1             id_1     2.5\n",
       "2             id_2     4.0\n",
       "3             id_3     1.0\n",
       "4             id_4     4.0\n",
       "...            ...     ...\n",
       "9995       id_9995     3.0\n",
       "9996       id_9996     1.5\n",
       "9997       id_9997     4.5\n",
       "9998       id_9998     1.0\n",
       "9999       id_9999     2.5\n",
       "\n",
       "[10000 rows x 2 columns]"
      ]
     },
     "execution_count": 31,
     "metadata": {},
     "output_type": "execute_result"
    }
   ],
   "source": [
    "test_data = test_data.drop(['Rating'], axis=1)\n",
    "\n",
    "sample_submission"
   ]
  },
  {
   "cell_type": "code",
   "execution_count": 32,
   "metadata": {
    "id": "M2eUwHsBxpPR",
    "outputId": "5f8f8512-e322-4a2d-9004-ef2633df5872"
   },
   "outputs": [
    {
     "name": "stderr",
     "output_type": "stream",
     "text": [
      "[Parallel(n_jobs=2)]: Using backend ThreadingBackend with 2 concurrent workers.\n",
      "[Parallel(n_jobs=2)]: Done  46 tasks      | elapsed:    0.1s\n",
      "[Parallel(n_jobs=2)]: Done 100 out of 100 | elapsed:    0.3s finished\n"
     ]
    }
   ],
   "source": [
    "predict_submission = model.predict(test_data)"
   ]
  },
  {
   "cell_type": "code",
   "execution_count": 33,
   "metadata": {
    "id": "lYih_gNcxpPS",
    "outputId": "f578b07c-2e7d-4aa3-9d06-bb4d2a789907"
   },
   "outputs": [
    {
     "data": {
      "text/plain": [
       "array([3.05 , 4.215, 4.1  , ..., 3.025, 4.5  , 4.255])"
      ]
     },
     "execution_count": 33,
     "metadata": {},
     "output_type": "execute_result"
    }
   ],
   "source": [
    "predict_submission"
   ]
  },
  {
   "cell_type": "code",
   "execution_count": 34,
   "metadata": {
    "id": "yWuq9fBnxpPb",
    "outputId": "0b5cb503-2ffd-4187-f95b-9a7f56b74764"
   },
   "outputs": [
    {
     "data": {
      "text/html": [
       "<div>\n",
       "<style scoped>\n",
       "    .dataframe tbody tr th:only-of-type {\n",
       "        vertical-align: middle;\n",
       "    }\n",
       "\n",
       "    .dataframe tbody tr th {\n",
       "        vertical-align: top;\n",
       "    }\n",
       "\n",
       "    .dataframe thead th {\n",
       "        text-align: right;\n",
       "    }\n",
       "</style>\n",
       "<table border=\"1\" class=\"dataframe\">\n",
       "  <thead>\n",
       "    <tr style=\"text-align: right;\">\n",
       "      <th></th>\n",
       "      <th>Restaurant_id</th>\n",
       "      <th>Rating</th>\n",
       "    </tr>\n",
       "  </thead>\n",
       "  <tbody>\n",
       "    <tr>\n",
       "      <th>0</th>\n",
       "      <td>id_0</td>\n",
       "      <td>3.050</td>\n",
       "    </tr>\n",
       "    <tr>\n",
       "      <th>1</th>\n",
       "      <td>id_1</td>\n",
       "      <td>4.215</td>\n",
       "    </tr>\n",
       "    <tr>\n",
       "      <th>2</th>\n",
       "      <td>id_2</td>\n",
       "      <td>4.100</td>\n",
       "    </tr>\n",
       "    <tr>\n",
       "      <th>3</th>\n",
       "      <td>id_3</td>\n",
       "      <td>4.245</td>\n",
       "    </tr>\n",
       "    <tr>\n",
       "      <th>4</th>\n",
       "      <td>id_4</td>\n",
       "      <td>4.440</td>\n",
       "    </tr>\n",
       "    <tr>\n",
       "      <th>5</th>\n",
       "      <td>id_5</td>\n",
       "      <td>4.390</td>\n",
       "    </tr>\n",
       "    <tr>\n",
       "      <th>6</th>\n",
       "      <td>id_6</td>\n",
       "      <td>3.270</td>\n",
       "    </tr>\n",
       "    <tr>\n",
       "      <th>7</th>\n",
       "      <td>id_7</td>\n",
       "      <td>2.720</td>\n",
       "    </tr>\n",
       "    <tr>\n",
       "      <th>8</th>\n",
       "      <td>id_8</td>\n",
       "      <td>4.320</td>\n",
       "    </tr>\n",
       "    <tr>\n",
       "      <th>9</th>\n",
       "      <td>id_9</td>\n",
       "      <td>4.575</td>\n",
       "    </tr>\n",
       "  </tbody>\n",
       "</table>\n",
       "</div>"
      ],
      "text/plain": [
       "  Restaurant_id  Rating\n",
       "0          id_0   3.050\n",
       "1          id_1   4.215\n",
       "2          id_2   4.100\n",
       "3          id_3   4.245\n",
       "4          id_4   4.440\n",
       "5          id_5   4.390\n",
       "6          id_6   3.270\n",
       "7          id_7   2.720\n",
       "8          id_8   4.320\n",
       "9          id_9   4.575"
      ]
     },
     "execution_count": 34,
     "metadata": {},
     "output_type": "execute_result"
    }
   ],
   "source": [
    "sample_submission['Rating'] = predict_submission\n",
    "sample_submission.to_csv('submission.csv', index=False)\n",
    "sample_submission.head(10)"
   ]
  }
 ],
 "metadata": {
  "colab": {
   "collapsed_sections": [],
   "name": "Copy of Module_3",
   "provenance": [
    {
     "file_id": "1vf4qnG5bbDUuahBBQa-S08W91SJ31Ddd",
     "timestamp": 1607950714427
    }
   ]
  },
  "kernelspec": {
   "display_name": "Python 3",
   "language": "python",
   "name": "python3"
  },
  "language_info": {
   "codemirror_mode": {
    "name": "ipython",
    "version": 3
   },
   "file_extension": ".py",
   "mimetype": "text/x-python",
   "name": "python",
   "nbconvert_exporter": "python",
   "pygments_lexer": "ipython3",
   "version": "3.8.5"
  }
 },
 "nbformat": 4,
 "nbformat_minor": 1
}
